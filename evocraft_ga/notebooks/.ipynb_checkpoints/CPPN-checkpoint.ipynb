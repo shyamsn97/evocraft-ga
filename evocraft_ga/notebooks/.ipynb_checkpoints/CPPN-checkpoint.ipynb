{
 "cells": [
  {
   "cell_type": "markdown",
   "metadata": {},
   "source": [
    "# Generating Structures with CPPN"
   ]
  },
  {
   "cell_type": "code",
   "execution_count": 1,
   "metadata": {},
   "outputs": [],
   "source": [
    "import click\n",
    "from evocraft_ga.ga.ga import GeneticAlgorithm\n",
    "from evocraft_ga.genome.genome import model_dict\n",
    "\n",
    "g = GeneticAlgorithm(population_size=50,\n",
    "                    num_elites=5,\n",
    "                    noise_dims=100,\n",
    "                    cube_dims=10,\n",
    "                    num_neighbors=5,\n",
    "                    num_bcs=200,\n",
    "                    noise_stdev=0.05,\n",
    "                     model_class=\"cppn\",\n",
    "                    clear_blocks_on_fail=True)\n"
   ]
  },
  {
   "cell_type": "code",
   "execution_count": null,
   "metadata": {},
   "outputs": [
    {
     "name": "stderr",
     "output_type": "stream",
     "text": [
      "Generation: 34 with max fitness: 4.983713223840757:  34%|███▍      | 34/100 [09:26<19:27, 17.69s/it]  "
     ]
    }
   ],
   "source": [
    "g.evolve(100)"
   ]
  },
  {
   "cell_type": "code",
   "execution_count": null,
   "metadata": {},
   "outputs": [],
   "source": []
  }
 ],
 "metadata": {
  "kernelspec": {
   "display_name": "Python [conda env:py38] *",
   "language": "python",
   "name": "conda-env-py38-py"
  },
  "language_info": {
   "codemirror_mode": {
    "name": "ipython",
    "version": 3
   },
   "file_extension": ".py",
   "mimetype": "text/x-python",
   "name": "python",
   "nbconvert_exporter": "python",
   "pygments_lexer": "ipython3",
   "version": "3.8.3"
  }
 },
 "nbformat": 4,
 "nbformat_minor": 4
}
