{
 "cells": [
  {
   "cell_type": "markdown",
   "metadata": {},
   "source": [
    "# Generating Structures with CPPN"
   ]
  },
  {
   "cell_type": "code",
   "execution_count": 1,
   "metadata": {},
   "outputs": [],
   "source": [
    "import click\n",
    "from evocraft_ga.ga.ga import GeneticAlgorithm\n",
    "from evocraft_ga.genome.genome import model_dict\n",
    "\n",
    "g = GeneticAlgorithm(population_size=50,\n",
    "                    num_elites=5,\n",
    "                    noise_dims=100,\n",
    "                    cube_dims=10,\n",
    "                    num_neighbors=5,\n",
    "                    num_bcs=200,\n",
    "                    noise_stdev=0.05,\n",
    "                     model_class=\"cppn\",\n",
    "                    clear_blocks_on_fail=True)\n"
   ]
  },
  {
   "cell_type": "code",
   "execution_count": null,
   "metadata": {},
   "outputs": [
    {
     "name": "stderr",
     "output_type": "stream",
     "text": [
      "Generation: 40 with max fitness: 0.19974283460223105:  41%|████      | 41/100 [11:24<17:53, 18.20s/it]"
     ]
    }
   ],
   "source": [
    "g.evolve(100)"
   ]
  },
  {
   "cell_type": "code",
   "execution_count": null,
   "metadata": {},
   "outputs": [],
   "source": []
  }
 ],
 "metadata": {
  "kernelspec": {
   "display_name": "Python [conda env:py38] *",
   "language": "python",
   "name": "conda-env-py38-py"
  },
  "language_info": {
   "codemirror_mode": {
    "name": "ipython",
    "version": 3
   },
   "file_extension": ".py",
   "mimetype": "text/x-python",
   "name": "python",
   "nbconvert_exporter": "python",
   "pygments_lexer": "ipython3",
   "version": "3.8.3"
  }
 },
 "nbformat": 4,
 "nbformat_minor": 4
}
