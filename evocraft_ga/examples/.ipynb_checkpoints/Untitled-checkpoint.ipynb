{
 "cells": [
  {
   "cell_type": "code",
   "execution_count": 1,
   "metadata": {},
   "outputs": [],
   "source": [
    "import numpy as np"
   ]
  },
  {
   "cell_type": "code",
   "execution_count": 2,
   "metadata": {},
   "outputs": [
    {
     "name": "stdout",
     "output_type": "stream",
     "text": [
      "position {\n",
      "  x: 21\n",
      "  y: 15\n",
      "  z: 21\n",
      "}\n",
      "type: REDSTONE_BLOCK\n",
      "\n",
      "position {\n",
      "  x: 21\n",
      "  y: 15\n",
      "  z: 22\n",
      "}\n",
      "type: REDSTONE_BLOCK\n",
      "\n",
      "position {\n",
      "  x: 21\n",
      "  y: 15\n",
      "  z: 23\n",
      "}\n",
      "type: REDSTONE_BLOCK\n",
      "\n",
      "position {\n",
      "  x: 21\n",
      "  y: 15\n",
      "  z: 24\n",
      "}\n",
      "type: REDSTONE_BLOCK\n",
      "\n",
      "position {\n",
      "  x: 21\n",
      "  y: 15\n",
      "  z: 25\n",
      "}\n",
      "type: REDSTONE_BLOCK\n",
      "\n",
      "position {\n",
      "  x: 21\n",
      "  y: 15\n",
      "  z: 26\n",
      "}\n",
      "type: REDSTONE_BLOCK\n",
      "\n",
      "position {\n",
      "  x: 21\n",
      "  y: 15\n",
      "  z: 27\n",
      "}\n",
      "type: REDSTONE_BLOCK\n",
      "\n",
      "position {\n",
      "  x: 21\n",
      "  y: 15\n",
      "  z: 28\n",
      "}\n",
      "type: REDSTONE_BLOCK\n",
      "\n"
     ]
    }
   ],
   "source": [
    "import grpc\n",
    "\n",
    "import evocraft_ga.external.minecraft_pb2_grpc as minecraft_pb2_grpc\n",
    "from evocraft_ga.external.minecraft_pb2 import *  # noqa\n",
    "\n",
    "channel = grpc.insecure_channel(\"localhost:5001\")\n",
    "client = minecraft_pb2_grpc.MinecraftServiceStub(channel)\n",
    "x = 20\n",
    "y = 10\n",
    "z = 20\n",
    "client.fillCube(\n",
    "    FillCubeRequest(  # Clear a 20x10x20 working area\n",
    "        cube=Cube(\n",
    "            min=Point(x=x - 10, y=y, z=z - 10), max=Point(x=x + 10, y=y + 10, z=z + 10)\n",
    "        ),\n",
    "        type=AIR,\n",
    "    )\n",
    ")\n",
    "client.spawnBlocks(\n",
    "    Blocks(\n",
    "        blocks=[  # Spawn a flying machine\n",
    "            # Lower layer\n",
    "            Block(\n",
    "                position=Point(x=1 + x, y=5 + y, z=1 + z),\n",
    "                type=REDSTONE_BLOCK,\n",
    "                orientation=NORTH,\n",
    "            ),\n",
    "            Block(\n",
    "                position=Point(x=1 + x, y=5 + y, z=2 + z), type=REDSTONE_BLOCK, orientation=NORTH\n",
    "            ),\n",
    "            Block(\n",
    "                position=Point(x=1 + x, y=5 + y, z=3 + z),\n",
    "                type=REDSTONE_BLOCK,\n",
    "                orientation=SOUTH,\n",
    "            ),\n",
    "            Block(\n",
    "                position=Point(x=1 + x, y=5 + y, z=4 + z),\n",
    "                type=REDSTONE_BLOCK,\n",
    "                orientation=NORTH,\n",
    "            ),\n",
    "            Block(\n",
    "                position=Point(x=1 + x, y=5 + y, z=5 + z),\n",
    "                type=REDSTONE_BLOCK,\n",
    "                orientation=NORTH,\n",
    "            ),\n",
    "            # Upper layer\n",
    "            Block(\n",
    "                position=Point(x=1 + x, y=5 + y, z=6 + z),\n",
    "                type=REDSTONE_BLOCK,\n",
    "                orientation=NORTH,\n",
    "            ),\n",
    "            Block(\n",
    "                position=Point(x=1 + x, y=5 + y, z=7 + z),\n",
    "                type=REDSTONE_BLOCK,\n",
    "                orientation=NORTH,\n",
    "            ),\n",
    "            # Activate\n",
    "            Block(\n",
    "                position=Point(x=1 + x, y=5 + y, z=8 + z),\n",
    "                type=REDSTONE_BLOCK,\n",
    "                orientation=NORTH,\n",
    "            ),\n",
    "        ]\n",
    "    )\n",
    ")\n",
    "\n",
    "\n",
    "blocks = client.readCube(\n",
    "    Cube(min=Point(x=x - 10, y=y, z=z - 10), max=Point(x=x + 10, y=y + 10, z=z + 10))\n",
    ")\n",
    "\n",
    "for b in blocks.blocks:\n",
    "    if b.type != 5:\n",
    "        print(b)"
   ]
  },
  {
   "cell_type": "code",
   "execution_count": 5,
   "metadata": {},
   "outputs": [],
   "source": [
    "a = np.zeros(shape=(10,10,10))"
   ]
  },
  {
   "cell_type": "code",
   "execution_count": 8,
   "metadata": {},
   "outputs": [],
   "source": [
    "a[0][0][0] = 1"
   ]
  },
  {
   "cell_type": "code",
   "execution_count": 9,
   "metadata": {},
   "outputs": [
    {
     "data": {
      "text/plain": [
       "array([[[1., 0., 0., 0., 0., 0., 0., 0., 0., 0.],\n",
       "        [0., 0., 0., 0., 0., 0., 0., 0., 0., 0.],\n",
       "        [0., 0., 0., 0., 0., 0., 0., 0., 0., 0.],\n",
       "        [0., 0., 0., 0., 0., 0., 0., 0., 0., 0.],\n",
       "        [0., 0., 0., 0., 0., 0., 0., 0., 0., 0.],\n",
       "        [0., 0., 0., 0., 0., 0., 0., 0., 0., 0.],\n",
       "        [0., 0., 0., 0., 0., 0., 0., 0., 0., 0.],\n",
       "        [0., 0., 0., 0., 0., 0., 0., 0., 0., 0.],\n",
       "        [0., 0., 0., 0., 0., 0., 0., 0., 0., 0.],\n",
       "        [0., 0., 0., 0., 0., 0., 0., 0., 0., 0.]],\n",
       "\n",
       "       [[0., 0., 0., 0., 0., 0., 0., 0., 0., 0.],\n",
       "        [0., 0., 0., 0., 0., 0., 0., 0., 0., 0.],\n",
       "        [0., 0., 0., 0., 0., 0., 0., 0., 0., 0.],\n",
       "        [0., 0., 0., 0., 0., 0., 0., 0., 0., 0.],\n",
       "        [0., 0., 0., 0., 0., 0., 0., 0., 0., 0.],\n",
       "        [0., 0., 0., 0., 0., 0., 0., 0., 0., 0.],\n",
       "        [0., 0., 0., 0., 0., 0., 0., 0., 0., 0.],\n",
       "        [0., 0., 0., 0., 0., 0., 0., 0., 0., 0.],\n",
       "        [0., 0., 0., 0., 0., 0., 0., 0., 0., 0.],\n",
       "        [0., 0., 0., 0., 0., 0., 0., 0., 0., 0.]],\n",
       "\n",
       "       [[0., 0., 0., 0., 0., 0., 0., 0., 0., 0.],\n",
       "        [0., 0., 0., 0., 0., 0., 0., 0., 0., 0.],\n",
       "        [0., 0., 0., 0., 0., 0., 0., 0., 0., 0.],\n",
       "        [0., 0., 0., 0., 0., 0., 0., 0., 0., 0.],\n",
       "        [0., 0., 0., 0., 0., 0., 0., 0., 0., 0.],\n",
       "        [0., 0., 0., 0., 0., 0., 0., 0., 0., 0.],\n",
       "        [0., 0., 0., 0., 0., 0., 0., 0., 0., 0.],\n",
       "        [0., 0., 0., 0., 0., 0., 0., 0., 0., 0.],\n",
       "        [0., 0., 0., 0., 0., 0., 0., 0., 0., 0.],\n",
       "        [0., 0., 0., 0., 0., 0., 0., 0., 0., 0.]],\n",
       "\n",
       "       [[0., 0., 0., 0., 0., 0., 0., 0., 0., 0.],\n",
       "        [0., 0., 0., 0., 0., 0., 0., 0., 0., 0.],\n",
       "        [0., 0., 0., 0., 0., 0., 0., 0., 0., 0.],\n",
       "        [0., 0., 0., 0., 0., 0., 0., 0., 0., 0.],\n",
       "        [0., 0., 0., 0., 0., 0., 0., 0., 0., 0.],\n",
       "        [0., 0., 0., 0., 0., 0., 0., 0., 0., 0.],\n",
       "        [0., 0., 0., 0., 0., 0., 0., 0., 0., 0.],\n",
       "        [0., 0., 0., 0., 0., 0., 0., 0., 0., 0.],\n",
       "        [0., 0., 0., 0., 0., 0., 0., 0., 0., 0.],\n",
       "        [0., 0., 0., 0., 0., 0., 0., 0., 0., 0.]],\n",
       "\n",
       "       [[0., 0., 0., 0., 0., 0., 0., 0., 0., 0.],\n",
       "        [0., 0., 0., 0., 0., 0., 0., 0., 0., 0.],\n",
       "        [0., 0., 0., 0., 0., 0., 0., 0., 0., 0.],\n",
       "        [0., 0., 0., 0., 0., 0., 0., 0., 0., 0.],\n",
       "        [0., 0., 0., 0., 0., 0., 0., 0., 0., 0.],\n",
       "        [0., 0., 0., 0., 0., 0., 0., 0., 0., 0.],\n",
       "        [0., 0., 0., 0., 0., 0., 0., 0., 0., 0.],\n",
       "        [0., 0., 0., 0., 0., 0., 0., 0., 0., 0.],\n",
       "        [0., 0., 0., 0., 0., 0., 0., 0., 0., 0.],\n",
       "        [0., 0., 0., 0., 0., 0., 0., 0., 0., 0.]],\n",
       "\n",
       "       [[0., 0., 0., 0., 0., 0., 0., 0., 0., 0.],\n",
       "        [0., 0., 0., 0., 0., 0., 0., 0., 0., 0.],\n",
       "        [0., 0., 0., 0., 0., 0., 0., 0., 0., 0.],\n",
       "        [0., 0., 0., 0., 0., 0., 0., 0., 0., 0.],\n",
       "        [0., 0., 0., 0., 0., 0., 0., 0., 0., 0.],\n",
       "        [0., 0., 0., 0., 0., 0., 0., 0., 0., 0.],\n",
       "        [0., 0., 0., 0., 0., 0., 0., 0., 0., 0.],\n",
       "        [0., 0., 0., 0., 0., 0., 0., 0., 0., 0.],\n",
       "        [0., 0., 0., 0., 0., 0., 0., 0., 0., 0.],\n",
       "        [0., 0., 0., 0., 0., 0., 0., 0., 0., 0.]],\n",
       "\n",
       "       [[0., 0., 0., 0., 0., 0., 0., 0., 0., 0.],\n",
       "        [0., 0., 0., 0., 0., 0., 0., 0., 0., 0.],\n",
       "        [0., 0., 0., 0., 0., 0., 0., 0., 0., 0.],\n",
       "        [0., 0., 0., 0., 0., 0., 0., 0., 0., 0.],\n",
       "        [0., 0., 0., 0., 0., 0., 0., 0., 0., 0.],\n",
       "        [0., 0., 0., 0., 0., 0., 0., 0., 0., 0.],\n",
       "        [0., 0., 0., 0., 0., 0., 0., 0., 0., 0.],\n",
       "        [0., 0., 0., 0., 0., 0., 0., 0., 0., 0.],\n",
       "        [0., 0., 0., 0., 0., 0., 0., 0., 0., 0.],\n",
       "        [0., 0., 0., 0., 0., 0., 0., 0., 0., 0.]],\n",
       "\n",
       "       [[0., 0., 0., 0., 0., 0., 0., 0., 0., 0.],\n",
       "        [0., 0., 0., 0., 0., 0., 0., 0., 0., 0.],\n",
       "        [0., 0., 0., 0., 0., 0., 0., 0., 0., 0.],\n",
       "        [0., 0., 0., 0., 0., 0., 0., 0., 0., 0.],\n",
       "        [0., 0., 0., 0., 0., 0., 0., 0., 0., 0.],\n",
       "        [0., 0., 0., 0., 0., 0., 0., 0., 0., 0.],\n",
       "        [0., 0., 0., 0., 0., 0., 0., 0., 0., 0.],\n",
       "        [0., 0., 0., 0., 0., 0., 0., 0., 0., 0.],\n",
       "        [0., 0., 0., 0., 0., 0., 0., 0., 0., 0.],\n",
       "        [0., 0., 0., 0., 0., 0., 0., 0., 0., 0.]],\n",
       "\n",
       "       [[0., 0., 0., 0., 0., 0., 0., 0., 0., 0.],\n",
       "        [0., 0., 0., 0., 0., 0., 0., 0., 0., 0.],\n",
       "        [0., 0., 0., 0., 0., 0., 0., 0., 0., 0.],\n",
       "        [0., 0., 0., 0., 0., 0., 0., 0., 0., 0.],\n",
       "        [0., 0., 0., 0., 0., 0., 0., 0., 0., 0.],\n",
       "        [0., 0., 0., 0., 0., 0., 0., 0., 0., 0.],\n",
       "        [0., 0., 0., 0., 0., 0., 0., 0., 0., 0.],\n",
       "        [0., 0., 0., 0., 0., 0., 0., 0., 0., 0.],\n",
       "        [0., 0., 0., 0., 0., 0., 0., 0., 0., 0.],\n",
       "        [0., 0., 0., 0., 0., 0., 0., 0., 0., 0.]],\n",
       "\n",
       "       [[0., 0., 0., 0., 0., 0., 0., 0., 0., 0.],\n",
       "        [0., 0., 0., 0., 0., 0., 0., 0., 0., 0.],\n",
       "        [0., 0., 0., 0., 0., 0., 0., 0., 0., 0.],\n",
       "        [0., 0., 0., 0., 0., 0., 0., 0., 0., 0.],\n",
       "        [0., 0., 0., 0., 0., 0., 0., 0., 0., 0.],\n",
       "        [0., 0., 0., 0., 0., 0., 0., 0., 0., 0.],\n",
       "        [0., 0., 0., 0., 0., 0., 0., 0., 0., 0.],\n",
       "        [0., 0., 0., 0., 0., 0., 0., 0., 0., 0.],\n",
       "        [0., 0., 0., 0., 0., 0., 0., 0., 0., 0.],\n",
       "        [0., 0., 0., 0., 0., 0., 0., 0., 0., 0.]]])"
      ]
     },
     "execution_count": 9,
     "metadata": {},
     "output_type": "execute_result"
    }
   ],
   "source": [
    "a"
   ]
  },
  {
   "cell_type": "code",
   "execution_count": 428,
   "metadata": {},
   "outputs": [],
   "source": [
    "a = np.random.randint(900,size=(5,5,5, 3))"
   ]
  },
  {
   "cell_type": "code",
   "execution_count": 429,
   "metadata": {},
   "outputs": [
    {
     "data": {
      "text/plain": [
       "array([[[[674, 556, 837],\n",
       "         [667, 291, 429],\n",
       "         [247, 605, 171],\n",
       "         [553, 779, 483],\n",
       "         [224, 543, 775]],\n",
       "\n",
       "        [[290,  46, 800],\n",
       "         [ 83, 171, 392],\n",
       "         [ 82,  28, 152],\n",
       "         [750,  14, 677],\n",
       "         [554, 107, 502]],\n",
       "\n",
       "        [[728, 190, 176],\n",
       "         [856, 147, 727],\n",
       "         [249, 838, 397],\n",
       "         [280, 435,  86],\n",
       "         [503, 524, 616]],\n",
       "\n",
       "        [[717, 830, 845],\n",
       "         [490, 151, 578],\n",
       "         [758, 542, 686],\n",
       "         [894, 476, 646],\n",
       "         [878,  72, 491]],\n",
       "\n",
       "        [[505, 788,  88],\n",
       "         [321, 469, 684],\n",
       "         [142, 644, 175],\n",
       "         [123, 853, 506],\n",
       "         [ 10, 359,  84]]],\n",
       "\n",
       "\n",
       "       [[[465, 363,  44],\n",
       "         [399, 136, 541],\n",
       "         [250, 894, 440],\n",
       "         [578,  65, 734],\n",
       "         [562,  58, 159]],\n",
       "\n",
       "        [[600, 123, 176],\n",
       "         [577, 183, 803],\n",
       "         [220, 445, 381],\n",
       "         [721, 726, 896],\n",
       "         [811, 357, 149]],\n",
       "\n",
       "        [[390, 711, 424],\n",
       "         [814, 189, 826],\n",
       "         [ 82, 626, 617],\n",
       "         [ 23,  27, 429],\n",
       "         [117, 856, 517]],\n",
       "\n",
       "        [[447,  12, 705],\n",
       "         [824, 526, 547],\n",
       "         [527, 841, 448],\n",
       "         [238, 391, 209],\n",
       "         [844, 167, 781]],\n",
       "\n",
       "        [[708,  81, 224],\n",
       "         [865, 488, 596],\n",
       "         [539,  48,  15],\n",
       "         [727, 896,   1],\n",
       "         [705, 187, 701]]],\n",
       "\n",
       "\n",
       "       [[[142, 181, 490],\n",
       "         [559, 359,  50],\n",
       "         [200, 616, 538],\n",
       "         [827, 135, 445],\n",
       "         [757,  16,  50]],\n",
       "\n",
       "        [[ 65, 590,  90],\n",
       "         [390, 179, 180],\n",
       "         [250, 864, 489],\n",
       "         [685, 190, 815],\n",
       "         [162, 198, 813]],\n",
       "\n",
       "        [[ 99, 585, 252],\n",
       "         [853, 172, 323],\n",
       "         [305, 173, 704],\n",
       "         [593, 119,  63],\n",
       "         [515, 515, 396]],\n",
       "\n",
       "        [[676, 150, 637],\n",
       "         [ 58, 596, 180],\n",
       "         [ 96, 122,  76],\n",
       "         [307, 876, 418],\n",
       "         [590, 604, 307]],\n",
       "\n",
       "        [[275, 520, 452],\n",
       "         [760, 705, 169],\n",
       "         [888, 561, 896],\n",
       "         [353, 638, 842],\n",
       "         [762, 493, 445]]],\n",
       "\n",
       "\n",
       "       [[[172, 458, 286],\n",
       "         [ 54, 443, 850],\n",
       "         [826, 572, 492],\n",
       "         [853,  91, 576],\n",
       "         [ 21, 188, 654]],\n",
       "\n",
       "        [[114, 463, 547],\n",
       "         [653, 549, 456],\n",
       "         [422, 127, 661],\n",
       "         [843, 659, 107],\n",
       "         [110, 729, 290]],\n",
       "\n",
       "        [[515, 597, 868],\n",
       "         [436, 112, 390],\n",
       "         [810, 237, 840],\n",
       "         [ 91, 419, 125],\n",
       "         [ 75, 265, 320]],\n",
       "\n",
       "        [[212, 727, 415],\n",
       "         [508, 620, 616],\n",
       "         [439, 782, 506],\n",
       "         [256, 613, 699],\n",
       "         [520,  16, 708]],\n",
       "\n",
       "        [[ 44, 525, 787],\n",
       "         [559, 628, 794],\n",
       "         [555,  43, 149],\n",
       "         [610,  66, 800],\n",
       "         [505, 735, 209]]],\n",
       "\n",
       "\n",
       "       [[[726,  36, 529],\n",
       "         [514, 731, 204],\n",
       "         [ 32, 302, 602],\n",
       "         [ 15, 492, 337],\n",
       "         [494, 135, 797]],\n",
       "\n",
       "        [[170, 482,  96],\n",
       "         [280, 263,  58],\n",
       "         [340,  95, 103],\n",
       "         [324, 642, 428],\n",
       "         [830, 896, 351]],\n",
       "\n",
       "        [[720, 896,  14],\n",
       "         [130, 432,  58],\n",
       "         [449, 704, 437],\n",
       "         [726, 243, 123],\n",
       "         [687, 755,  64]],\n",
       "\n",
       "        [[813, 154, 189],\n",
       "         [305, 795, 330],\n",
       "         [730, 379, 489],\n",
       "         [141, 381, 742],\n",
       "         [210, 343, 185]],\n",
       "\n",
       "        [[287, 253,  18],\n",
       "         [127, 682,  65],\n",
       "         [883,  75, 526],\n",
       "         [295, 572, 718],\n",
       "         [520, 714, 676]]]])"
      ]
     },
     "execution_count": 429,
     "metadata": {},
     "output_type": "execute_result"
    }
   ],
   "source": [
    "a"
   ]
  },
  {
   "cell_type": "code",
   "execution_count": 432,
   "metadata": {},
   "outputs": [
    {
     "data": {
      "text/plain": [
       "array([[[2, 0, 1, 1, 2],\n",
       "        [2, 2, 2, 0, 0],\n",
       "        [0, 0, 1, 1, 2],\n",
       "        [2, 2, 0, 0, 0],\n",
       "        [1, 2, 1, 1, 1]],\n",
       "\n",
       "       [[0, 2, 1, 2, 0],\n",
       "        [0, 2, 1, 2, 0],\n",
       "        [1, 2, 1, 2, 1],\n",
       "        [2, 0, 1, 1, 0],\n",
       "        [0, 0, 0, 1, 0]],\n",
       "\n",
       "       [[2, 0, 1, 0, 0],\n",
       "        [1, 0, 1, 2, 2],\n",
       "        [1, 0, 2, 0, 0],\n",
       "        [0, 1, 1, 1, 1],\n",
       "        [1, 0, 2, 2, 0]],\n",
       "\n",
       "       [[1, 2, 0, 0, 2],\n",
       "        [2, 0, 2, 0, 1],\n",
       "        [2, 0, 2, 1, 2],\n",
       "        [1, 1, 1, 2, 2],\n",
       "        [2, 2, 0, 2, 1]],\n",
       "\n",
       "       [[0, 1, 2, 1, 2],\n",
       "        [1, 0, 0, 1, 1],\n",
       "        [1, 1, 1, 0, 1],\n",
       "        [0, 1, 0, 2, 1],\n",
       "        [0, 1, 0, 2, 1]]])"
      ]
     },
     "execution_count": 432,
     "metadata": {},
     "output_type": "execute_result"
    }
   ],
   "source": [
    "np.argmax(a,axis=-1)"
   ]
  },
  {
   "cell_type": "code",
   "execution_count": 28,
   "metadata": {},
   "outputs": [],
   "source": [
    "test = np.ones(27).reshape(3,3,3)"
   ]
  },
  {
   "cell_type": "code",
   "execution_count": 510,
   "metadata": {},
   "outputs": [],
   "source": [
    "test[test < 2] = 0.0"
   ]
  },
  {
   "cell_type": "code",
   "execution_count": 511,
   "metadata": {},
   "outputs": [
    {
     "data": {
      "text/plain": [
       "array([[[0., 0., 0.],\n",
       "        [0., 0., 0.],\n",
       "        [0., 0., 0.]],\n",
       "\n",
       "       [[0., 0., 0.],\n",
       "        [0., 0., 0.],\n",
       "        [0., 0., 0.]],\n",
       "\n",
       "       [[0., 0., 0.],\n",
       "        [0., 0., 0.],\n",
       "        [0., 0., 0.]]])"
      ]
     },
     "execution_count": 511,
     "metadata": {},
     "output_type": "execute_result"
    }
   ],
   "source": [
    "test"
   ]
  },
  {
   "cell_type": "code",
   "execution_count": 30,
   "metadata": {},
   "outputs": [
    {
     "name": "stdout",
     "output_type": "stream",
     "text": [
      "1.0\n",
      "1.0\n",
      "1.0\n",
      "1.0\n",
      "1.0\n",
      "1.0\n",
      "1.0\n",
      "1.0\n",
      "1.0\n",
      "1.0\n",
      "1.0\n",
      "1.0\n",
      "1.0\n",
      "1.0\n",
      "1.0\n",
      "1.0\n",
      "1.0\n",
      "1.0\n",
      "1.0\n",
      "1.0\n",
      "1.0\n",
      "1.0\n",
      "1.0\n",
      "1.0\n",
      "1.0\n",
      "1.0\n",
      "1.0\n"
     ]
    }
   ],
   "source": [
    "for x in np.ndindex(test.shape):\n",
    "    print(test[x])"
   ]
  },
  {
   "cell_type": "code",
   "execution_count": 20,
   "metadata": {},
   "outputs": [],
   "source": [
    "n = np.random.uniform(0,1, size=(2,3))"
   ]
  },
  {
   "cell_type": "code",
   "execution_count": 40,
   "metadata": {},
   "outputs": [
    {
     "data": {
      "text/plain": [
       "array([[[0., 0., 0.],\n",
       "        [0., 0., 0.],\n",
       "        [0., 0., 0.]],\n",
       "\n",
       "       [[0., 0., 0.],\n",
       "        [0., 0., 0.],\n",
       "        [0., 0., 0.]],\n",
       "\n",
       "       [[0., 0., 0.],\n",
       "        [0., 0., 0.],\n",
       "        [0., 0., 0.]]])"
      ]
     },
     "execution_count": 40,
     "metadata": {},
     "output_type": "execute_result"
    }
   ],
   "source": [
    "np.zeros(shape=(3,3,3))"
   ]
  },
  {
   "cell_type": "code",
   "execution_count": 508,
   "metadata": {},
   "outputs": [
    {
     "ename": "TypeError",
     "evalue": "loop of ufunc does not support argument 0 of type NoveltySearch which has no callable rint method",
     "output_type": "error",
     "traceback": [
      "\u001b[0;31m---------------------------------------------------------------------------\u001b[0m",
      "\u001b[0;31mAttributeError\u001b[0m                            Traceback (most recent call last)",
      "\u001b[0;31mAttributeError\u001b[0m: 'NoveltySearch' object has no attribute 'rint'",
      "\nThe above exception was the direct cause of the following exception:\n",
      "\u001b[0;31mTypeError\u001b[0m                                 Traceback (most recent call last)",
      "\u001b[0;32m<ipython-input-508-951682f5b349>\u001b[0m in \u001b[0;36m<module>\u001b[0;34m\u001b[0m\n\u001b[0;32m----> 1\u001b[0;31m \u001b[0mnp\u001b[0m\u001b[0;34m.\u001b[0m\u001b[0mround\u001b[0m\u001b[0;34m(\u001b[0m\u001b[0mn\u001b[0m\u001b[0;34m)\u001b[0m\u001b[0;34m.\u001b[0m\u001b[0mreshape\u001b[0m\u001b[0;34m(\u001b[0m\u001b[0;36m2\u001b[0m\u001b[0;34m,\u001b[0m\u001b[0;36m3\u001b[0m\u001b[0;34m,\u001b[0m\u001b[0;36m1\u001b[0m\u001b[0;34m)\u001b[0m\u001b[0;34m\u001b[0m\u001b[0;34m\u001b[0m\u001b[0m\n\u001b[0m",
      "\u001b[0;32m<__array_function__ internals>\u001b[0m in \u001b[0;36mround_\u001b[0;34m(*args, **kwargs)\u001b[0m\n",
      "\u001b[0;32m~/anaconda3/envs/py38/lib/python3.8/site-packages/numpy-1.19.2-py3.8-linux-x86_64.egg/numpy/core/fromnumeric.py\u001b[0m in \u001b[0;36mround_\u001b[0;34m(a, decimals, out)\u001b[0m\n\u001b[1;32m   3635\u001b[0m     \u001b[0maround\u001b[0m \u001b[0;34m:\u001b[0m \u001b[0mequivalent\u001b[0m \u001b[0mfunction\u001b[0m\u001b[0;34m;\u001b[0m \u001b[0msee\u001b[0m \u001b[0;32mfor\u001b[0m \u001b[0mdetails\u001b[0m\u001b[0;34m.\u001b[0m\u001b[0;34m\u001b[0m\u001b[0;34m\u001b[0m\u001b[0m\n\u001b[1;32m   3636\u001b[0m     \"\"\"\n\u001b[0;32m-> 3637\u001b[0;31m     \u001b[0;32mreturn\u001b[0m \u001b[0maround\u001b[0m\u001b[0;34m(\u001b[0m\u001b[0ma\u001b[0m\u001b[0;34m,\u001b[0m \u001b[0mdecimals\u001b[0m\u001b[0;34m=\u001b[0m\u001b[0mdecimals\u001b[0m\u001b[0;34m,\u001b[0m \u001b[0mout\u001b[0m\u001b[0;34m=\u001b[0m\u001b[0mout\u001b[0m\u001b[0;34m)\u001b[0m\u001b[0;34m\u001b[0m\u001b[0;34m\u001b[0m\u001b[0m\n\u001b[0m\u001b[1;32m   3638\u001b[0m \u001b[0;34m\u001b[0m\u001b[0m\n\u001b[1;32m   3639\u001b[0m \u001b[0;34m\u001b[0m\u001b[0m\n",
      "\u001b[0;32m<__array_function__ internals>\u001b[0m in \u001b[0;36maround\u001b[0;34m(*args, **kwargs)\u001b[0m\n",
      "\u001b[0;32m~/anaconda3/envs/py38/lib/python3.8/site-packages/numpy-1.19.2-py3.8-linux-x86_64.egg/numpy/core/fromnumeric.py\u001b[0m in \u001b[0;36maround\u001b[0;34m(a, decimals, out)\u001b[0m\n\u001b[1;32m   3260\u001b[0m \u001b[0;34m\u001b[0m\u001b[0m\n\u001b[1;32m   3261\u001b[0m     \"\"\"\n\u001b[0;32m-> 3262\u001b[0;31m     \u001b[0;32mreturn\u001b[0m \u001b[0m_wrapfunc\u001b[0m\u001b[0;34m(\u001b[0m\u001b[0ma\u001b[0m\u001b[0;34m,\u001b[0m \u001b[0;34m'round'\u001b[0m\u001b[0;34m,\u001b[0m \u001b[0mdecimals\u001b[0m\u001b[0;34m=\u001b[0m\u001b[0mdecimals\u001b[0m\u001b[0;34m,\u001b[0m \u001b[0mout\u001b[0m\u001b[0;34m=\u001b[0m\u001b[0mout\u001b[0m\u001b[0;34m)\u001b[0m\u001b[0;34m\u001b[0m\u001b[0;34m\u001b[0m\u001b[0m\n\u001b[0m\u001b[1;32m   3263\u001b[0m \u001b[0;34m\u001b[0m\u001b[0m\n\u001b[1;32m   3264\u001b[0m \u001b[0;34m\u001b[0m\u001b[0m\n",
      "\u001b[0;32m~/anaconda3/envs/py38/lib/python3.8/site-packages/numpy-1.19.2-py3.8-linux-x86_64.egg/numpy/core/fromnumeric.py\u001b[0m in \u001b[0;36m_wrapfunc\u001b[0;34m(obj, method, *args, **kwds)\u001b[0m\n\u001b[1;32m     53\u001b[0m     \u001b[0mbound\u001b[0m \u001b[0;34m=\u001b[0m \u001b[0mgetattr\u001b[0m\u001b[0;34m(\u001b[0m\u001b[0mobj\u001b[0m\u001b[0;34m,\u001b[0m \u001b[0mmethod\u001b[0m\u001b[0;34m,\u001b[0m \u001b[0;32mNone\u001b[0m\u001b[0;34m)\u001b[0m\u001b[0;34m\u001b[0m\u001b[0;34m\u001b[0m\u001b[0m\n\u001b[1;32m     54\u001b[0m     \u001b[0;32mif\u001b[0m \u001b[0mbound\u001b[0m \u001b[0;32mis\u001b[0m \u001b[0;32mNone\u001b[0m\u001b[0;34m:\u001b[0m\u001b[0;34m\u001b[0m\u001b[0;34m\u001b[0m\u001b[0m\n\u001b[0;32m---> 55\u001b[0;31m         \u001b[0;32mreturn\u001b[0m \u001b[0m_wrapit\u001b[0m\u001b[0;34m(\u001b[0m\u001b[0mobj\u001b[0m\u001b[0;34m,\u001b[0m \u001b[0mmethod\u001b[0m\u001b[0;34m,\u001b[0m \u001b[0;34m*\u001b[0m\u001b[0margs\u001b[0m\u001b[0;34m,\u001b[0m \u001b[0;34m**\u001b[0m\u001b[0mkwds\u001b[0m\u001b[0;34m)\u001b[0m\u001b[0;34m\u001b[0m\u001b[0;34m\u001b[0m\u001b[0m\n\u001b[0m\u001b[1;32m     56\u001b[0m \u001b[0;34m\u001b[0m\u001b[0m\n\u001b[1;32m     57\u001b[0m     \u001b[0;32mtry\u001b[0m\u001b[0;34m:\u001b[0m\u001b[0;34m\u001b[0m\u001b[0;34m\u001b[0m\u001b[0m\n",
      "\u001b[0;32m~/anaconda3/envs/py38/lib/python3.8/site-packages/numpy-1.19.2-py3.8-linux-x86_64.egg/numpy/core/fromnumeric.py\u001b[0m in \u001b[0;36m_wrapit\u001b[0;34m(obj, method, *args, **kwds)\u001b[0m\n\u001b[1;32m     42\u001b[0m     \u001b[0;32mexcept\u001b[0m \u001b[0mAttributeError\u001b[0m\u001b[0;34m:\u001b[0m\u001b[0;34m\u001b[0m\u001b[0;34m\u001b[0m\u001b[0m\n\u001b[1;32m     43\u001b[0m         \u001b[0mwrap\u001b[0m \u001b[0;34m=\u001b[0m \u001b[0;32mNone\u001b[0m\u001b[0;34m\u001b[0m\u001b[0;34m\u001b[0m\u001b[0m\n\u001b[0;32m---> 44\u001b[0;31m     \u001b[0mresult\u001b[0m \u001b[0;34m=\u001b[0m \u001b[0mgetattr\u001b[0m\u001b[0;34m(\u001b[0m\u001b[0masarray\u001b[0m\u001b[0;34m(\u001b[0m\u001b[0mobj\u001b[0m\u001b[0;34m)\u001b[0m\u001b[0;34m,\u001b[0m \u001b[0mmethod\u001b[0m\u001b[0;34m)\u001b[0m\u001b[0;34m(\u001b[0m\u001b[0;34m*\u001b[0m\u001b[0margs\u001b[0m\u001b[0;34m,\u001b[0m \u001b[0;34m**\u001b[0m\u001b[0mkwds\u001b[0m\u001b[0;34m)\u001b[0m\u001b[0;34m\u001b[0m\u001b[0;34m\u001b[0m\u001b[0m\n\u001b[0m\u001b[1;32m     45\u001b[0m     \u001b[0;32mif\u001b[0m \u001b[0mwrap\u001b[0m\u001b[0;34m:\u001b[0m\u001b[0;34m\u001b[0m\u001b[0;34m\u001b[0m\u001b[0m\n\u001b[1;32m     46\u001b[0m         \u001b[0;32mif\u001b[0m \u001b[0;32mnot\u001b[0m \u001b[0misinstance\u001b[0m\u001b[0;34m(\u001b[0m\u001b[0mresult\u001b[0m\u001b[0;34m,\u001b[0m \u001b[0mmu\u001b[0m\u001b[0;34m.\u001b[0m\u001b[0mndarray\u001b[0m\u001b[0;34m)\u001b[0m\u001b[0;34m:\u001b[0m\u001b[0;34m\u001b[0m\u001b[0;34m\u001b[0m\u001b[0m\n",
      "\u001b[0;31mTypeError\u001b[0m: loop of ufunc does not support argument 0 of type NoveltySearch which has no callable rint method"
     ]
    }
   ],
   "source": [
    "np.round(n).reshape(2,3,1)"
   ]
  },
  {
   "cell_type": "code",
   "execution_count": 609,
   "metadata": {},
   "outputs": [],
   "source": [
    "class Spawner:\n",
    "    def __init__(self, start_x=20, start_y=10, start_z=20, cube_len=10, class_dict={0:AIR, 1:REDSTONE_BLOCK}, orientation=SOUTH):\n",
    "        self.start_x = start_x\n",
    "        self.start_y = start_y\n",
    "        self.start_z = start_z\n",
    "        self.cube_len = cube_len\n",
    "        self.class_dict = class_dict\n",
    "        self.class_dict[-1.0] = AIR\n",
    "        self.orientation = orientation\n",
    "        self.channel = grpc.insecure_channel(\"localhost:5001\")\n",
    "        self.client = minecraft_pb2_grpc.MinecraftServiceStub(channel)\n",
    "\n",
    "    def create_block(self, x, y, z, block_type):\n",
    "        return Block(\n",
    "                position=Point(x=x, y=y, z=z),\n",
    "                type=block_type,\n",
    "                orientation=self.orientation,\n",
    "            )  \n",
    "    \n",
    "    def clear_blocks(self, x_min, y_min, z_min):\n",
    "        \n",
    "        self.client.fillCube(\n",
    "            FillCubeRequest(  # Clear a 20x10x20 working area\n",
    "                cube=Cube(\n",
    "                    min=Point(x=x_min, y=y_min, z=z_min), max=Point(x=x_min + self.cube_len, y=y_min + self.cube_len, z=z_min + self.cube_len)\n",
    "                ),\n",
    "                type=AIR,\n",
    "            )\n",
    "        )\n",
    "\n",
    "    def _populate_arr(self, arr, x_min, y_min, z_min):\n",
    "        blocks = []\n",
    "        self.clear_blocks(x_min,y_min,z_min)\n",
    "        for coord in np.ndindex(arr.shape):\n",
    "            block = self.create_block(x=x_min+coord[0], y=y_min+coord[1], z=z_min+coord[2], block_type=self.class_dict[arr[coord]])\n",
    "            blocks.append(block)\n",
    "        blocks = Blocks(blocks=blocks)\n",
    "        client.spawnBlocks(blocks)\n",
    "    \n",
    "    def populate(self, cube_probs):\n",
    "        for i in range(len(cube_probs)):\n",
    "            dist = i*5 + i*self.cube_len\n",
    "            self._populate_arr(cube_probs[i], self.start_x+dist,self.start_y, self.start_z)\n",
    "\n",
    "    def clear_population(self, population_size):\n",
    "        for i in range(population_size):\n",
    "            dist = i*5 + i*self.cube_len\n",
    "            self.clear_blocks(self.start_x+dist,self.start_y, self.start_z)\n",
    "    "
   ]
  },
  {
   "cell_type": "code",
   "execution_count": 534,
   "metadata": {},
   "outputs": [],
   "source": [
    "l = [np.ones((10,10,10,5)) for i in range(10)]"
   ]
  },
  {
   "cell_type": "code",
   "execution_count": 535,
   "metadata": {},
   "outputs": [
    {
     "data": {
      "text/plain": [
       "(5,)"
      ]
     },
     "execution_count": 535,
     "metadata": {},
     "output_type": "execute_result"
    }
   ],
   "source": [
    "l[0][(1,0,1)][:].shape"
   ]
  },
  {
   "cell_type": "code",
   "execution_count": 385,
   "metadata": {},
   "outputs": [],
   "source": [
    "s = Spawner()"
   ]
  },
  {
   "cell_type": "code",
   "execution_count": 388,
   "metadata": {},
   "outputs": [],
   "source": [
    "s.populate(l)"
   ]
  },
  {
   "cell_type": "code",
   "execution_count": 66,
   "metadata": {},
   "outputs": [],
   "source": [
    "def multi_populate(population_len, border_len=5, x_min=20, y_min=10, z_min=20, cube_len=20):\n",
    "    x = x_min\n",
    "    y = y_min\n",
    "    z = z_min\n",
    "    for i in range(population_len):\n",
    "        dist = i*border_len + i*cube_len\n",
    "        populate_arr(np.random.uniform(0,1, size=(cube_len,cube_len,cube_len)), x+dist,y, z, cube_len)"
   ]
  },
  {
   "cell_type": "code",
   "execution_count": 67,
   "metadata": {},
   "outputs": [],
   "source": [
    "def multi_clear(population_len, border_len=5, x_min=20, y_min=10, z_min=20, cube_len=20):\n",
    "    x = x_min\n",
    "    y = y_min\n",
    "    z = z_min\n",
    "    for i in range(population_len):\n",
    "        dist = i*border_len + i*cube_len\n",
    "        clear_blocks(x+dist,y, z, cube_len)"
   ]
  },
  {
   "cell_type": "code",
   "execution_count": 84,
   "metadata": {},
   "outputs": [],
   "source": [
    "multi_clear(10, cube_len=10)"
   ]
  },
  {
   "cell_type": "code",
   "execution_count": 80,
   "metadata": {},
   "outputs": [],
   "source": [
    "multi_populate(10, cube_len=10)"
   ]
  },
  {
   "cell_type": "code",
   "execution_count": 446,
   "metadata": {},
   "outputs": [],
   "source": [
    "t2 = torch.randn((3,3,3,2))"
   ]
  },
  {
   "cell_type": "code",
   "execution_count": 427,
   "metadata": {},
   "outputs": [
    {
     "data": {
      "text/plain": [
       "torch.Size([3, 3, 3, 2])"
      ]
     },
     "execution_count": 427,
     "metadata": {},
     "output_type": "execute_result"
    }
   ],
   "source": [
    "nn.Softmax(dim=-1)(t)"
   ]
  },
  {
   "cell_type": "code",
   "execution_count": 268,
   "metadata": {},
   "outputs": [
    {
     "data": {
      "text/plain": [
       "tensor([0.4966, 0.4996, 0.5044, 0.5001, 0.4977, 0.5002, 0.5086, 0.4904, 0.5096,\n",
       "        0.4958, 0.5045, 0.5096, 0.4921, 0.4991, 0.5035, 0.4970, 0.4953, 0.5022,\n",
       "        0.5035, 0.5021, 0.5136, 0.5011, 0.4981, 0.4886, 0.4965, 0.4977, 0.4935,\n",
       "        0.5031, 0.4920, 0.4927, 0.5028, 0.5085, 0.4997, 0.4912, 0.4909, 0.5008,\n",
       "        0.5075, 0.4986, 0.5040, 0.4916, 0.4920, 0.4946, 0.5024, 0.5076, 0.5006,\n",
       "        0.5003, 0.5080, 0.5012, 0.4972, 0.4879, 0.4980, 0.5045, 0.5004, 0.4995,\n",
       "        0.4970, 0.4990, 0.5037, 0.5069, 0.5068, 0.4873, 0.5097, 0.4981, 0.5007,\n",
       "        0.4939, 0.5029, 0.5030, 0.4917, 0.5041, 0.5007, 0.4890, 0.5066, 0.4922,\n",
       "        0.4868, 0.5017, 0.5021, 0.4977, 0.4980, 0.4946, 0.4970, 0.5006, 0.5083,\n",
       "        0.4896, 0.4929, 0.4909, 0.4965, 0.4974, 0.4930, 0.5008, 0.5024, 0.5002,\n",
       "        0.5079, 0.5048, 0.4984, 0.5117, 0.5018, 0.4942, 0.4986, 0.5052, 0.4916,\n",
       "        0.5017, 0.4926, 0.4988, 0.5056, 0.5024, 0.5014, 0.4920, 0.4903, 0.5060,\n",
       "        0.5110, 0.5020, 0.5044, 0.5014, 0.5039, 0.4953, 0.5063, 0.5022, 0.4955,\n",
       "        0.5004, 0.5029, 0.5005, 0.4982, 0.5034, 0.5068, 0.5003, 0.4989, 0.4981,\n",
       "        0.4954, 0.4968, 0.5079, 0.5016, 0.5053, 0.4986, 0.4914, 0.4943, 0.5020,\n",
       "        0.5043, 0.4981, 0.5117, 0.5004, 0.4943, 0.4950, 0.4952, 0.4990, 0.5072,\n",
       "        0.4973, 0.4922, 0.5008, 0.5039, 0.5001, 0.4933, 0.4964, 0.4883, 0.5012,\n",
       "        0.4971, 0.5021, 0.4945, 0.4954, 0.5033, 0.4932, 0.4852, 0.5010, 0.4947,\n",
       "        0.5042, 0.4993, 0.4964, 0.4973, 0.4991, 0.4969, 0.4890, 0.4994, 0.4951,\n",
       "        0.4927, 0.5014, 0.4879, 0.5029, 0.4936, 0.5016, 0.5052, 0.5015, 0.5026,\n",
       "        0.5010, 0.4874, 0.5099, 0.4994, 0.5036, 0.4981, 0.4926, 0.5039, 0.4988,\n",
       "        0.4904, 0.5107, 0.4964, 0.5040, 0.4943, 0.4981, 0.5064, 0.4958, 0.4853,\n",
       "        0.4895, 0.4953, 0.4947, 0.4930, 0.4936, 0.5006, 0.5158, 0.4991, 0.5065,\n",
       "        0.4923, 0.4994, 0.4969, 0.5047, 0.4956, 0.4971, 0.4991, 0.5002, 0.5014,\n",
       "        0.4966, 0.5065, 0.4906, 0.5024, 0.5096, 0.5015, 0.4998, 0.5020, 0.4976,\n",
       "        0.5037, 0.5067, 0.5010, 0.5005, 0.4938, 0.4953, 0.5069, 0.5018, 0.4932,\n",
       "        0.5087, 0.5009, 0.4944, 0.5067, 0.5019, 0.4988, 0.5065, 0.4994, 0.5031,\n",
       "        0.5013, 0.5025, 0.4961, 0.4983, 0.4984, 0.4962, 0.5077, 0.5042, 0.5069,\n",
       "        0.4975, 0.5037, 0.5145, 0.4978])"
      ]
     },
     "execution_count": 268,
     "metadata": {},
     "output_type": "execute_result"
    }
   ],
   "source": [
    "torch.squeeze(torch.from_numpy(n))"
   ]
  },
  {
   "cell_type": "code",
   "execution_count": 473,
   "metadata": {},
   "outputs": [],
   "source": [
    "import torch\n",
    "from torch import nn\n",
    "import typing\n",
    "import numpy as np\n",
    "import sys\n",
    "\n",
    "def create_linear_torch(\n",
    "    input_dims, output_dims, bias=False, relu=False, batch_norm=False\n",
    "):\n",
    "    layers = []\n",
    "    lin = torch.nn.Linear(input_dims, output_dims, bias=bias)\n",
    "    layers.append(lin)\n",
    "    if batch_norm:\n",
    "        layers.append(torch.nn.BatchNorm1d(output_dims))\n",
    "    if relu:\n",
    "        layers.append(torch.nn.ReLU())\n",
    "    return torch.nn.Sequential(*layers)\n",
    "\n",
    "class Linear(nn.Module):\n",
    "    def __init__(self, noise_dims, x_dims, y_dims, z_dims, num_classes=1):\n",
    "        super(Linear, self).__init__()\n",
    "        self.noise_dims = noise_dims\n",
    "        self.x_dims = x_dims\n",
    "        self.y_dims = y_dims\n",
    "        self.z_dims = z_dims\n",
    "        self.num_classes=num_classes\n",
    "\n",
    "        self.linear1 = create_linear_torch(noise_dims, 64, relu=True)\n",
    "        self.linear2 = create_linear_torch(64, 256, relu=True)\n",
    "        self.output_linear = create_linear_torch(256, x_dims*y_dims*z_dims*num_classes)\n",
    "        self.layers = [\n",
    "            self.linear1,\n",
    "            self.linear2,\n",
    "            self.output_linear,\n",
    "        ]\n",
    "        self._net = nn.Sequential(*self.layers)\n",
    "\n",
    "    def forward(self, x):\n",
    "        x = self._net(x)\n",
    "        return x\n",
    "\n",
    "    def generate(self, mean=0.0, std=1.0, to_numpy=False, squeeze=False):\n",
    "        noise = torch.from_numpy(np.random.normal(loc=mean, scale=std, size=(1, self.noise_dims))).float()\n",
    "        out = self.forward(noise)\n",
    "        out = out.view(self.x_dims, self.y_dims, self.z_dims, self.num_classes)\n",
    "        out = nn.Softmax(dim=-1)(out)\n",
    "        if squeeze:\n",
    "            out = torch.squeeze(out)\n",
    "        if to_numpy:\n",
    "            out = out.detach().numpy()\n",
    "        return out"
   ]
  },
  {
   "cell_type": "code",
   "execution_count": 365,
   "metadata": {},
   "outputs": [],
   "source": [
    "import attr"
   ]
  },
  {
   "cell_type": "code",
   "execution_count": 435,
   "metadata": {},
   "outputs": [],
   "source": [
    "from __future__ import annotations\n",
    "import copy\n",
    "\n",
    "@attr.s\n",
    "class Genome:\n",
    "    noise_dims: int = attr.ib()\n",
    "    cube_dims : int = attr.ib()\n",
    "    seeds : typing.List[int] = attr.ib(default=[])\n",
    "    noise_stdev : float = attr.ib(default=1.0)\n",
    "    num_classes: int = attr.ib(default=1)\n",
    "    # set later\n",
    "    model = attr.ib(init=False)\n",
    "\n",
    "    def __attrs_post_init__(self):\n",
    "        self._verify_seeds(self.seeds)\n",
    "        self.model = Linear(self.noise_dims, self.cube_dims, self.cube_dims, self.cube_dims, num_classes=self.num_classes)\n",
    "        self.initialize_weights()\n",
    "        \n",
    "    def _verify_seeds(self, seeds):\n",
    "        if len(seeds) == 0:\n",
    "            seeds = [np.random.randint(1, high=2 ** 31 - 1)]\n",
    "        self.seeds = seeds.copy()\n",
    "\n",
    "    def initialize_weights(self) -> None:\n",
    "        num_seeds = len(self.seeds)\n",
    "\n",
    "        rs = np.random.RandomState(self.seeds[0])\n",
    "        for n, W in self.model.named_parameters():\n",
    "            if any(x in n for x in [\"weight\", \"bias\"]):\n",
    "                weights = rs.normal(loc=0.0, scale=self.noise_stdev, size=W.size())\n",
    "                W.data = torch.from_numpy(weights).float()\n",
    "\n",
    "        for seed_num in range(1, num_seeds):\n",
    "            rs = np.random.RandomState(self.seeds[seed_num])\n",
    "            for name, W in self.model.named_parameters():\n",
    "                if any(x in name for x in [\"weight\", \"bias\"]):\n",
    "                    weights = (\n",
    "                        rs.normal(loc=0.0, scale=1.0, size=W.size()) * self.noise_stdev\n",
    "                    )\n",
    "                    W.data = W.data + torch.from_numpy(weights).float()\n",
    "\n",
    "    def mutate(self):\n",
    "        new_seed = np.random.randint(1, high=2 ** 31 - 1)\n",
    "        self.seeds.append(new_seed)\n",
    "        self.initialize_weights()\n",
    "\n",
    "    def generate(self, to_numpy=False, squeeze=False):\n",
    "        return self.model.generate(to_numpy=to_numpy, squeeze=squeeze)\n",
    "    \n",
    "    def copy_parameters(self, genome: Genome):\n",
    "        self.seeds = copy.deepcopy(genome.seeds)\n",
    "    "
   ]
  },
  {
   "cell_type": "code",
   "execution_count": 367,
   "metadata": {},
   "outputs": [],
   "source": [
    "from tqdm import tqdm"
   ]
  },
  {
   "cell_type": "code",
   "execution_count": 368,
   "metadata": {},
   "outputs": [],
   "source": [
    "from collections import deque"
   ]
  },
  {
   "cell_type": "code",
   "execution_count": 471,
   "metadata": {},
   "outputs": [
    {
     "data": {
      "text/plain": [
       "4"
      ]
     },
     "execution_count": 471,
     "metadata": {},
     "output_type": "execute_result"
    }
   ],
   "source": [
    "a = np.array([1,1])\n",
    "np.sum(a**2 + a**2)"
   ]
  },
  {
   "cell_type": "code",
   "execution_count": 494,
   "metadata": {},
   "outputs": [],
   "source": [
    "import sklearn\n",
    "from sklearn.neighbors import NearestNeighbors\n",
    "import numpy as np\n",
    "\n",
    "def cross_entropy(x, y):\n",
    "    N = x.shape[0]\n",
    "    # entropy over dimensions\n",
    "#     for i in range(x.shape[-1]):\n",
    "    ce = -np.sum(y * np.log(x)) / N\n",
    "#     np.linalg.norm(x - y)\n",
    "    return ce \n",
    "\n",
    "def mse(x, y):\n",
    "    N = x.shape[0]\n",
    "    return np.mean((x - y)**2)\n",
    "\n",
    "class NoveltySearch:\n",
    "    def __init__(self, num_neighbors, maxlen=200):\n",
    "        self.num_neighbors = num_neighbors\n",
    "        self._bcs = deque([], maxlen=maxlen)\n",
    "        self._knn = NearestNeighbors(n_neighbors=num_neighbors,\n",
    "                 algorithm='auto',\n",
    "                 metric=lambda a,b: cross_entropy(a,b)\n",
    "                 )\n",
    "    \n",
    "    def apply(self, bcs):\n",
    "        flattened = [bc.flatten() for bc in bcs]\n",
    "        for f in flattened:\n",
    "            self._bcs.append(f)\n",
    "        neighbors = self._knn.fit(np.array(self._bcs))\n",
    "        distances, indices = self._knn.kneighbors(np.array(flattened))\n",
    "        return np.mean(distances, axis=1)\n",
    "\n"
   ]
  },
  {
   "cell_type": "code",
   "execution_count": 495,
   "metadata": {},
   "outputs": [],
   "source": [
    "n = NoveltySearch(2)"
   ]
  },
  {
   "cell_type": "code",
   "execution_count": 496,
   "metadata": {},
   "outputs": [],
   "source": [
    "l = nn.Softmax(dim=-1)(t).detach().numpy()"
   ]
  },
  {
   "cell_type": "code",
   "execution_count": 497,
   "metadata": {},
   "outputs": [],
   "source": [
    "l2 = nn.Softmax(dim=-1)(t2).detach().numpy()"
   ]
  },
  {
   "cell_type": "code",
   "execution_count": 498,
   "metadata": {},
   "outputs": [
    {
     "data": {
      "text/plain": [
       "array([0.33875369, 0.33192275])"
      ]
     },
     "execution_count": 498,
     "metadata": {},
     "output_type": "execute_result"
    }
   ],
   "source": [
    "n.apply([l,l2])"
   ]
  },
  {
   "cell_type": "code",
   "execution_count": 520,
   "metadata": {},
   "outputs": [
    {
     "name": "stdout",
     "output_type": "stream",
     "text": [
      "(0, 0, 0)\n",
      "(0, 0, 1)\n",
      "(0, 0, 2)\n",
      "(0, 0, 3)\n",
      "(0, 1, 0)\n",
      "(0, 1, 1)\n",
      "(0, 1, 2)\n",
      "(0, 1, 3)\n",
      "(0, 2, 0)\n",
      "(0, 2, 1)\n",
      "(0, 2, 2)\n",
      "(0, 2, 3)\n",
      "(1, 0, 0)\n",
      "(1, 0, 1)\n",
      "(1, 0, 2)\n",
      "(1, 0, 3)\n",
      "(1, 1, 0)\n",
      "(1, 1, 1)\n",
      "(1, 1, 2)\n",
      "(1, 1, 3)\n",
      "(1, 2, 0)\n",
      "(1, 2, 1)\n",
      "(1, 2, 2)\n",
      "(1, 2, 3)\n"
     ]
    }
   ],
   "source": [
    "for i in np.ndindex((2,3,4)):\n",
    "    print(i)"
   ]
  },
  {
   "cell_type": "code",
   "execution_count": null,
   "metadata": {},
   "outputs": [],
   "source": []
  },
  {
   "cell_type": "code",
   "execution_count": 552,
   "metadata": {},
   "outputs": [
    {
     "ename": "ValueError",
     "evalue": "'a' and 'p' must have same size",
     "output_type": "error",
     "traceback": [
      "\u001b[0;31m---------------------------------------------------------------------------\u001b[0m",
      "\u001b[0;31mValueError\u001b[0m                                Traceback (most recent call last)",
      "\u001b[0;32m<ipython-input-552-b61cda761e72>\u001b[0m in \u001b[0;36m<module>\u001b[0;34m\u001b[0m\n\u001b[0;32m----> 1\u001b[0;31m \u001b[0mnp\u001b[0m\u001b[0;34m.\u001b[0m\u001b[0mrandom\u001b[0m\u001b[0;34m.\u001b[0m\u001b[0mchoice\u001b[0m\u001b[0;34m(\u001b[0m\u001b[0;36m1\u001b[0m\u001b[0;34m,\u001b[0m\u001b[0;36m1\u001b[0m\u001b[0;34m,\u001b[0m\u001b[0mp\u001b[0m\u001b[0;34m=\u001b[0m\u001b[0;34m[\u001b[0m\u001b[0;36m0.5\u001b[0m\u001b[0;34m,\u001b[0m\u001b[0;36m0.5\u001b[0m\u001b[0;34m]\u001b[0m\u001b[0;34m)\u001b[0m\u001b[0;34m\u001b[0m\u001b[0;34m\u001b[0m\u001b[0m\n\u001b[0m",
      "\u001b[0;32mmtrand.pyx\u001b[0m in \u001b[0;36mnumpy.random.mtrand.RandomState.choice\u001b[0;34m()\u001b[0m\n",
      "\u001b[0;31mValueError\u001b[0m: 'a' and 'p' must have same size"
     ]
    }
   ],
   "source": [
    "np.random.choice(1,1,p=[0.5,0.5])"
   ]
  },
  {
   "cell_type": "code",
   "execution_count": 551,
   "metadata": {},
   "outputs": [
    {
     "data": {
      "text/plain": [
       "array([[0., 0., 0.],\n",
       "       [0., 0., 0.]])"
      ]
     },
     "execution_count": 551,
     "metadata": {},
     "output_type": "execute_result"
    }
   ],
   "source": [
    "np.zeros((2,3))"
   ]
  },
  {
   "cell_type": "code",
   "execution_count": 616,
   "metadata": {},
   "outputs": [],
   "source": [
    "import random\n",
    "\n",
    "class_dict = {\n",
    "    0:REDSTONE_BLOCK,\n",
    "    1:SLIME,\n",
    "    2:COAL_BLOCK\n",
    "}\n",
    "\n",
    "@attr.s\n",
    "class GeneticAlgorithm:\n",
    "    population_size : int = attr.ib(default=50)\n",
    "    num_elites : int = attr.ib(default=5)\n",
    "    noise_dims: int = attr.ib(default=100)\n",
    "    cube_dims : int = attr.ib(default=10)\n",
    "    noise_stdev: float = attr.ib(default=0.02)\n",
    "    num_neighbors : int = attr.ib(default=5)\n",
    "    num_bcs : int = attr.ib(default=200)\n",
    "    clear_blocks_on_fail: bool = attr.ib(default=False)\n",
    "    class_dict = attr.ib(default=class_dict)\n",
    "    \n",
    "    criteria = attr.ib(default=0.8)\n",
    "    spawner: Spawner = attr.ib(default=None)\n",
    "    genomes : typing.List[Genome] = attr.ib(init=False)\n",
    "    \n",
    "    def __attrs_post_init__(self):\n",
    "        self.populate()\n",
    "        self.novelty_search = NoveltySearch(num_neighbors=self.num_neighbors, maxlen=self.num_bcs)\n",
    "        if self.spawner is None:\n",
    "            self.spawner = Spawner(cube_len=self.cube_dims, class_dict=self.class_dict)\n",
    "\n",
    "    def populate(self):\n",
    "        self.genomes = []\n",
    "        for i in range(self.population_size):\n",
    "            genome = Genome(noise_dims=self.noise_dims,\n",
    "                            cube_dims=self.cube_dims,\n",
    "                            noise_stdev=self.noise_stdev,\n",
    "                            num_classes = len(self.class_dict.keys()))\n",
    "            self.genomes.append(genome)\n",
    "    \n",
    "    def evolve(self, num_generations=100):\n",
    "        try:\n",
    "            bar = tqdm(np.arange(num_generations))\n",
    "            for i in bar:\n",
    "                outputs = [genome.generate(to_numpy=True) for genome in self.genomes]\n",
    "                self.spawn(outputs)\n",
    "                fitnesses = self.novelty_search.apply(outputs)\n",
    "                max_fitness = np.max(fitnesses)\n",
    "                bar.set_description(\"Generation: {} with max fitness: {}\".format(i, max_fitness))\n",
    "                self.reproduce(fitnesses)\n",
    "        except Exception as e:\n",
    "            print(\"Caught exception: {}\".format(e.traceback))\n",
    "            if self.clear_blocks_on_fail:\n",
    "                self.spawner.clear_population(self.population_size)\n",
    "    \n",
    "    def spawn(self, outputs):\n",
    "#         reshaped_outputs = [output.reshape(self.cube_dims, self.cube_dims, self.cube_dims) for output in outputs]\n",
    "        argmaxed_outputs = []\n",
    "        for output in outputs:\n",
    "            argmaxed_outputs.append(self.sample_block_class(output))\n",
    "        self.spawner.populate(argmaxed_outputs)\n",
    "    \n",
    "    def sample_block_class(self, output):\n",
    "        arr = np.zeros((self.cube_dims, self.cube_dims, self.cube_dims))\n",
    "        for coords in np.ndindex((self.cube_dims, self.cube_dims, self.cube_dims)):\n",
    "            probs = output[coords][:]\n",
    "            probs = probs / np.sum(probs)\n",
    "            if np.max(probs) < self.criteria:\n",
    "                arr[coords] = -1.0\n",
    "            else:\n",
    "                arr[coords] = np.random.choice(probs.shape[0],p=probs)\n",
    "        return arr\n",
    "    \n",
    "    def reproduce(self, fitnesses) -> None:\n",
    "        \"\"\"\n",
    "            reproduces by taking the top N elites and copying + mutating their seeds\n",
    "        \"\"\"\n",
    "        ranking = np.argsort(fitnesses)[::-1]\n",
    "        elite_ranking = ranking[: self.num_elites]\n",
    "        elite_ranking_set = set(elite_ranking)\n",
    "        best_genome_index = elite_ranking[0]\n",
    "\n",
    "        for genome_index in range(len(self.genomes)):\n",
    "            # first mutate non elite agents\n",
    "            if genome_index not in elite_ranking_set:\n",
    "                random_elite_index = random.choice(elite_ranking)\n",
    "                random_elite = self.genomes[random_elite_index]\n",
    "                self.genomes[genome_index].copy_parameters(\n",
    "                    random_elite\n",
    "                )  # copy seeds\n",
    "                self.genomes[genome_index].mutate()\n",
    "\n",
    "        for genome_index in elite_ranking_set:\n",
    "            # mutate elites except the best one\n",
    "            if genome_index != best_genome_index:\n",
    "                self.genomes[genome_index].mutate()\n",
    "    \n",
    "        "
   ]
  },
  {
   "cell_type": "code",
   "execution_count": 617,
   "metadata": {},
   "outputs": [],
   "source": [
    "g = GeneticAlgorithm(noise_stdev=0.05, clear_blocks_on_fail=True)"
   ]
  },
  {
   "cell_type": "code",
   "execution_count": 618,
   "metadata": {},
   "outputs": [
    {
     "name": "stderr",
     "output_type": "stream",
     "text": [
      "Generation: 5 with max fitness: 0.4012159433992511:   5%|▌         | 5/100 [00:55<17:33, 11.09s/it] \n"
     ]
    },
    {
     "ename": "KeyboardInterrupt",
     "evalue": "",
     "output_type": "error",
     "traceback": [
      "\u001b[0;31m---------------------------------------------------------------------------\u001b[0m",
      "\u001b[0;31mKeyboardInterrupt\u001b[0m                         Traceback (most recent call last)",
      "\u001b[0;32m<ipython-input-618-e90e3f324335>\u001b[0m in \u001b[0;36m<module>\u001b[0;34m\u001b[0m\n\u001b[0;32m----> 1\u001b[0;31m \u001b[0mg\u001b[0m\u001b[0;34m.\u001b[0m\u001b[0mevolve\u001b[0m\u001b[0;34m(\u001b[0m\u001b[0;34m)\u001b[0m\u001b[0;34m\u001b[0m\u001b[0;34m\u001b[0m\u001b[0m\n\u001b[0m",
      "\u001b[0;32m<ipython-input-616-2bdebe5bbe9d>\u001b[0m in \u001b[0;36mevolve\u001b[0;34m(self, num_generations)\u001b[0m\n\u001b[1;32m     47\u001b[0m                 \u001b[0mmax_fitness\u001b[0m \u001b[0;34m=\u001b[0m \u001b[0mnp\u001b[0m\u001b[0;34m.\u001b[0m\u001b[0mmax\u001b[0m\u001b[0;34m(\u001b[0m\u001b[0mfitnesses\u001b[0m\u001b[0;34m)\u001b[0m\u001b[0;34m\u001b[0m\u001b[0;34m\u001b[0m\u001b[0m\n\u001b[1;32m     48\u001b[0m                 \u001b[0mbar\u001b[0m\u001b[0;34m.\u001b[0m\u001b[0mset_description\u001b[0m\u001b[0;34m(\u001b[0m\u001b[0;34m\"Generation: {} with max fitness: {}\"\u001b[0m\u001b[0;34m.\u001b[0m\u001b[0mformat\u001b[0m\u001b[0;34m(\u001b[0m\u001b[0mi\u001b[0m\u001b[0;34m,\u001b[0m \u001b[0mmax_fitness\u001b[0m\u001b[0;34m)\u001b[0m\u001b[0;34m)\u001b[0m\u001b[0;34m\u001b[0m\u001b[0;34m\u001b[0m\u001b[0m\n\u001b[0;32m---> 49\u001b[0;31m                 \u001b[0mself\u001b[0m\u001b[0;34m.\u001b[0m\u001b[0mreproduce\u001b[0m\u001b[0;34m(\u001b[0m\u001b[0mfitnesses\u001b[0m\u001b[0;34m)\u001b[0m\u001b[0;34m\u001b[0m\u001b[0;34m\u001b[0m\u001b[0m\n\u001b[0m\u001b[1;32m     50\u001b[0m         \u001b[0;32mexcept\u001b[0m \u001b[0mException\u001b[0m \u001b[0;32mas\u001b[0m \u001b[0me\u001b[0m\u001b[0;34m:\u001b[0m\u001b[0;34m\u001b[0m\u001b[0;34m\u001b[0m\u001b[0m\n\u001b[1;32m     51\u001b[0m             \u001b[0mprint\u001b[0m\u001b[0;34m(\u001b[0m\u001b[0;34m\"Caught exception: {}\"\u001b[0m\u001b[0;34m.\u001b[0m\u001b[0mformat\u001b[0m\u001b[0;34m(\u001b[0m\u001b[0me\u001b[0m\u001b[0;34m.\u001b[0m\u001b[0mtraceback\u001b[0m\u001b[0;34m)\u001b[0m\u001b[0;34m)\u001b[0m\u001b[0;34m\u001b[0m\u001b[0;34m\u001b[0m\u001b[0m\n",
      "\u001b[0;32m<ipython-input-616-2bdebe5bbe9d>\u001b[0m in \u001b[0;36mreproduce\u001b[0;34m(self, fitnesses)\u001b[0m\n\u001b[1;32m     88\u001b[0m                     \u001b[0mrandom_elite\u001b[0m\u001b[0;34m\u001b[0m\u001b[0;34m\u001b[0m\u001b[0m\n\u001b[1;32m     89\u001b[0m                 )  # copy seeds\n\u001b[0;32m---> 90\u001b[0;31m                 \u001b[0mself\u001b[0m\u001b[0;34m.\u001b[0m\u001b[0mgenomes\u001b[0m\u001b[0;34m[\u001b[0m\u001b[0mgenome_index\u001b[0m\u001b[0;34m]\u001b[0m\u001b[0;34m.\u001b[0m\u001b[0mmutate\u001b[0m\u001b[0;34m(\u001b[0m\u001b[0;34m)\u001b[0m\u001b[0;34m\u001b[0m\u001b[0;34m\u001b[0m\u001b[0m\n\u001b[0m\u001b[1;32m     91\u001b[0m \u001b[0;34m\u001b[0m\u001b[0m\n\u001b[1;32m     92\u001b[0m         \u001b[0;32mfor\u001b[0m \u001b[0mgenome_index\u001b[0m \u001b[0;32min\u001b[0m \u001b[0melite_ranking_set\u001b[0m\u001b[0;34m:\u001b[0m\u001b[0;34m\u001b[0m\u001b[0;34m\u001b[0m\u001b[0m\n",
      "\u001b[0;32m<ipython-input-435-05cc5604328b>\u001b[0m in \u001b[0;36mmutate\u001b[0;34m(self)\u001b[0m\n\u001b[1;32m     43\u001b[0m         \u001b[0mnew_seed\u001b[0m \u001b[0;34m=\u001b[0m \u001b[0mnp\u001b[0m\u001b[0;34m.\u001b[0m\u001b[0mrandom\u001b[0m\u001b[0;34m.\u001b[0m\u001b[0mrandint\u001b[0m\u001b[0;34m(\u001b[0m\u001b[0;36m1\u001b[0m\u001b[0;34m,\u001b[0m \u001b[0mhigh\u001b[0m\u001b[0;34m=\u001b[0m\u001b[0;36m2\u001b[0m \u001b[0;34m**\u001b[0m \u001b[0;36m31\u001b[0m \u001b[0;34m-\u001b[0m \u001b[0;36m1\u001b[0m\u001b[0;34m)\u001b[0m\u001b[0;34m\u001b[0m\u001b[0;34m\u001b[0m\u001b[0m\n\u001b[1;32m     44\u001b[0m         \u001b[0mself\u001b[0m\u001b[0;34m.\u001b[0m\u001b[0mseeds\u001b[0m\u001b[0;34m.\u001b[0m\u001b[0mappend\u001b[0m\u001b[0;34m(\u001b[0m\u001b[0mnew_seed\u001b[0m\u001b[0;34m)\u001b[0m\u001b[0;34m\u001b[0m\u001b[0;34m\u001b[0m\u001b[0m\n\u001b[0;32m---> 45\u001b[0;31m         \u001b[0mself\u001b[0m\u001b[0;34m.\u001b[0m\u001b[0minitialize_weights\u001b[0m\u001b[0;34m(\u001b[0m\u001b[0;34m)\u001b[0m\u001b[0;34m\u001b[0m\u001b[0;34m\u001b[0m\u001b[0m\n\u001b[0m\u001b[1;32m     46\u001b[0m \u001b[0;34m\u001b[0m\u001b[0m\n\u001b[1;32m     47\u001b[0m     \u001b[0;32mdef\u001b[0m \u001b[0mgenerate\u001b[0m\u001b[0;34m(\u001b[0m\u001b[0mself\u001b[0m\u001b[0;34m,\u001b[0m \u001b[0mto_numpy\u001b[0m\u001b[0;34m=\u001b[0m\u001b[0;32mFalse\u001b[0m\u001b[0;34m,\u001b[0m \u001b[0msqueeze\u001b[0m\u001b[0;34m=\u001b[0m\u001b[0;32mFalse\u001b[0m\u001b[0;34m)\u001b[0m\u001b[0;34m:\u001b[0m\u001b[0;34m\u001b[0m\u001b[0;34m\u001b[0m\u001b[0m\n",
      "\u001b[0;32m<ipython-input-435-05cc5604328b>\u001b[0m in \u001b[0;36minitialize_weights\u001b[0;34m(self)\u001b[0m\n\u001b[1;32m     36\u001b[0m                 \u001b[0;32mif\u001b[0m \u001b[0many\u001b[0m\u001b[0;34m(\u001b[0m\u001b[0mx\u001b[0m \u001b[0;32min\u001b[0m \u001b[0mname\u001b[0m \u001b[0;32mfor\u001b[0m \u001b[0mx\u001b[0m \u001b[0;32min\u001b[0m \u001b[0;34m[\u001b[0m\u001b[0;34m\"weight\"\u001b[0m\u001b[0;34m,\u001b[0m \u001b[0;34m\"bias\"\u001b[0m\u001b[0;34m]\u001b[0m\u001b[0;34m)\u001b[0m\u001b[0;34m:\u001b[0m\u001b[0;34m\u001b[0m\u001b[0;34m\u001b[0m\u001b[0m\n\u001b[1;32m     37\u001b[0m                     weights = (\n\u001b[0;32m---> 38\u001b[0;31m                         \u001b[0mrs\u001b[0m\u001b[0;34m.\u001b[0m\u001b[0mnormal\u001b[0m\u001b[0;34m(\u001b[0m\u001b[0mloc\u001b[0m\u001b[0;34m=\u001b[0m\u001b[0;36m0.0\u001b[0m\u001b[0;34m,\u001b[0m \u001b[0mscale\u001b[0m\u001b[0;34m=\u001b[0m\u001b[0;36m1.0\u001b[0m\u001b[0;34m,\u001b[0m \u001b[0msize\u001b[0m\u001b[0;34m=\u001b[0m\u001b[0mW\u001b[0m\u001b[0;34m.\u001b[0m\u001b[0msize\u001b[0m\u001b[0;34m(\u001b[0m\u001b[0;34m)\u001b[0m\u001b[0;34m)\u001b[0m \u001b[0;34m*\u001b[0m \u001b[0mself\u001b[0m\u001b[0;34m.\u001b[0m\u001b[0mnoise_stdev\u001b[0m\u001b[0;34m\u001b[0m\u001b[0;34m\u001b[0m\u001b[0m\n\u001b[0m\u001b[1;32m     39\u001b[0m                     )\n\u001b[1;32m     40\u001b[0m                     \u001b[0mW\u001b[0m\u001b[0;34m.\u001b[0m\u001b[0mdata\u001b[0m \u001b[0;34m=\u001b[0m \u001b[0mW\u001b[0m\u001b[0;34m.\u001b[0m\u001b[0mdata\u001b[0m \u001b[0;34m+\u001b[0m \u001b[0mtorch\u001b[0m\u001b[0;34m.\u001b[0m\u001b[0mfrom_numpy\u001b[0m\u001b[0;34m(\u001b[0m\u001b[0mweights\u001b[0m\u001b[0;34m)\u001b[0m\u001b[0;34m.\u001b[0m\u001b[0mfloat\u001b[0m\u001b[0;34m(\u001b[0m\u001b[0;34m)\u001b[0m\u001b[0;34m\u001b[0m\u001b[0;34m\u001b[0m\u001b[0m\n",
      "\u001b[0;31mKeyboardInterrupt\u001b[0m: "
     ]
    }
   ],
   "source": [
    "g.evolve()"
   ]
  },
  {
   "cell_type": "code",
   "execution_count": 572,
   "metadata": {},
   "outputs": [
    {
     "data": {
      "text/plain": [
       "1.00000003"
      ]
     },
     "execution_count": 572,
     "metadata": {},
     "output_type": "execute_result"
    }
   ],
   "source": [
    "np.sum([0.44930318, 0.55069685])"
   ]
  },
  {
   "cell_type": "code",
   "execution_count": 574,
   "metadata": {},
   "outputs": [],
   "source": [
    "p = np.array([0.44930318, 0.55069685]) / np.sum(np.array([0.44930318, 0.55069685]))"
   ]
  },
  {
   "cell_type": "code",
   "execution_count": 579,
   "metadata": {},
   "outputs": [
    {
     "data": {
      "text/plain": [
       "1"
      ]
     },
     "execution_count": 579,
     "metadata": {},
     "output_type": "execute_result"
    }
   ],
   "source": [
    "np.random.choice(2, p=p)"
   ]
  },
  {
   "cell_type": "code",
   "execution_count": null,
   "metadata": {},
   "outputs": [],
   "source": []
  }
 ],
 "metadata": {
  "kernelspec": {
   "display_name": "Python [conda env:py38] *",
   "language": "python",
   "name": "conda-env-py38-py"
  },
  "language_info": {
   "codemirror_mode": {
    "name": "ipython",
    "version": 3
   },
   "file_extension": ".py",
   "mimetype": "text/x-python",
   "name": "python",
   "nbconvert_exporter": "python",
   "pygments_lexer": "ipython3",
   "version": "3.8.3"
  }
 },
 "nbformat": 4,
 "nbformat_minor": 4
}
