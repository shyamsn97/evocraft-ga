{
 "cells": [
  {
   "cell_type": "code",
   "execution_count": 1,
   "metadata": {},
   "outputs": [],
   "source": [
    "import numpy as np"
   ]
  },
  {
   "cell_type": "code",
   "execution_count": 2,
   "metadata": {},
   "outputs": [
    {
     "name": "stdout",
     "output_type": "stream",
     "text": [
      "position {\n",
      "  x: 21\n",
      "  y: 15\n",
      "  z: 21\n",
      "}\n",
      "type: REDSTONE_BLOCK\n",
      "\n",
      "position {\n",
      "  x: 21\n",
      "  y: 15\n",
      "  z: 22\n",
      "}\n",
      "type: REDSTONE_BLOCK\n",
      "\n",
      "position {\n",
      "  x: 21\n",
      "  y: 15\n",
      "  z: 23\n",
      "}\n",
      "type: REDSTONE_BLOCK\n",
      "\n",
      "position {\n",
      "  x: 21\n",
      "  y: 15\n",
      "  z: 24\n",
      "}\n",
      "type: REDSTONE_BLOCK\n",
      "\n",
      "position {\n",
      "  x: 21\n",
      "  y: 15\n",
      "  z: 25\n",
      "}\n",
      "type: REDSTONE_BLOCK\n",
      "\n",
      "position {\n",
      "  x: 21\n",
      "  y: 15\n",
      "  z: 26\n",
      "}\n",
      "type: REDSTONE_BLOCK\n",
      "\n",
      "position {\n",
      "  x: 21\n",
      "  y: 15\n",
      "  z: 27\n",
      "}\n",
      "type: REDSTONE_BLOCK\n",
      "\n",
      "position {\n",
      "  x: 21\n",
      "  y: 15\n",
      "  z: 28\n",
      "}\n",
      "type: REDSTONE_BLOCK\n",
      "\n"
     ]
    }
   ],
   "source": [
    "import grpc\n",
    "\n",
    "import evocraft_ga.external.minecraft_pb2_grpc as minecraft_pb2_grpc\n",
    "from evocraft_ga.external.minecraft_pb2 import *  # noqa\n",
    "\n",
    "channel = grpc.insecure_channel(\"localhost:5001\")\n",
    "client = minecraft_pb2_grpc.MinecraftServiceStub(channel)\n",
    "x = 20\n",
    "y = 10\n",
    "z = 20\n",
    "client.fillCube(\n",
    "    FillCubeRequest(  # Clear a 20x10x20 working area\n",
    "        cube=Cube(\n",
    "            min=Point(x=x - 10, y=y, z=z - 10), max=Point(x=x + 10, y=y + 10, z=z + 10)\n",
    "        ),\n",
    "        type=AIR,\n",
    "    )\n",
    ")\n",
    "client.spawnBlocks(\n",
    "    Blocks(\n",
    "        blocks=[  # Spawn a flying machine\n",
    "            # Lower layer\n",
    "            Block(\n",
    "                position=Point(x=1 + x, y=5 + y, z=1 + z),\n",
    "                type=REDSTONE_BLOCK,\n",
    "                orientation=NORTH,\n",
    "            ),\n",
    "            Block(\n",
    "                position=Point(x=1 + x, y=5 + y, z=2 + z), type=REDSTONE_BLOCK, orientation=NORTH\n",
    "            ),\n",
    "            Block(\n",
    "                position=Point(x=1 + x, y=5 + y, z=3 + z),\n",
    "                type=REDSTONE_BLOCK,\n",
    "                orientation=SOUTH,\n",
    "            ),\n",
    "            Block(\n",
    "                position=Point(x=1 + x, y=5 + y, z=4 + z),\n",
    "                type=REDSTONE_BLOCK,\n",
    "                orientation=NORTH,\n",
    "            ),\n",
    "            Block(\n",
    "                position=Point(x=1 + x, y=5 + y, z=5 + z),\n",
    "                type=REDSTONE_BLOCK,\n",
    "                orientation=NORTH,\n",
    "            ),\n",
    "            # Upper layer\n",
    "            Block(\n",
    "                position=Point(x=1 + x, y=5 + y, z=6 + z),\n",
    "                type=REDSTONE_BLOCK,\n",
    "                orientation=NORTH,\n",
    "            ),\n",
    "            Block(\n",
    "                position=Point(x=1 + x, y=5 + y, z=7 + z),\n",
    "                type=REDSTONE_BLOCK,\n",
    "                orientation=NORTH,\n",
    "            ),\n",
    "            # Activate\n",
    "            Block(\n",
    "                position=Point(x=1 + x, y=5 + y, z=8 + z),\n",
    "                type=REDSTONE_BLOCK,\n",
    "                orientation=NORTH,\n",
    "            ),\n",
    "        ]\n",
    "    )\n",
    ")\n",
    "\n",
    "\n",
    "blocks = client.readCube(\n",
    "    Cube(min=Point(x=x - 10, y=y, z=z - 10), max=Point(x=x + 10, y=y + 10, z=z + 10))\n",
    ")\n",
    "\n",
    "for b in blocks.blocks:\n",
    "    if b.type != 5:\n",
    "        print(b)"
   ]
  },
  {
   "cell_type": "code",
   "execution_count": 5,
   "metadata": {},
   "outputs": [],
   "source": [
    "a = np.zeros(shape=(10,10,10))"
   ]
  },
  {
   "cell_type": "code",
   "execution_count": 8,
   "metadata": {},
   "outputs": [],
   "source": [
    "a[0][0][0] = 1"
   ]
  },
  {
   "cell_type": "code",
   "execution_count": 9,
   "metadata": {},
   "outputs": [
    {
     "data": {
      "text/plain": [
       "array([[[1., 0., 0., 0., 0., 0., 0., 0., 0., 0.],\n",
       "        [0., 0., 0., 0., 0., 0., 0., 0., 0., 0.],\n",
       "        [0., 0., 0., 0., 0., 0., 0., 0., 0., 0.],\n",
       "        [0., 0., 0., 0., 0., 0., 0., 0., 0., 0.],\n",
       "        [0., 0., 0., 0., 0., 0., 0., 0., 0., 0.],\n",
       "        [0., 0., 0., 0., 0., 0., 0., 0., 0., 0.],\n",
       "        [0., 0., 0., 0., 0., 0., 0., 0., 0., 0.],\n",
       "        [0., 0., 0., 0., 0., 0., 0., 0., 0., 0.],\n",
       "        [0., 0., 0., 0., 0., 0., 0., 0., 0., 0.],\n",
       "        [0., 0., 0., 0., 0., 0., 0., 0., 0., 0.]],\n",
       "\n",
       "       [[0., 0., 0., 0., 0., 0., 0., 0., 0., 0.],\n",
       "        [0., 0., 0., 0., 0., 0., 0., 0., 0., 0.],\n",
       "        [0., 0., 0., 0., 0., 0., 0., 0., 0., 0.],\n",
       "        [0., 0., 0., 0., 0., 0., 0., 0., 0., 0.],\n",
       "        [0., 0., 0., 0., 0., 0., 0., 0., 0., 0.],\n",
       "        [0., 0., 0., 0., 0., 0., 0., 0., 0., 0.],\n",
       "        [0., 0., 0., 0., 0., 0., 0., 0., 0., 0.],\n",
       "        [0., 0., 0., 0., 0., 0., 0., 0., 0., 0.],\n",
       "        [0., 0., 0., 0., 0., 0., 0., 0., 0., 0.],\n",
       "        [0., 0., 0., 0., 0., 0., 0., 0., 0., 0.]],\n",
       "\n",
       "       [[0., 0., 0., 0., 0., 0., 0., 0., 0., 0.],\n",
       "        [0., 0., 0., 0., 0., 0., 0., 0., 0., 0.],\n",
       "        [0., 0., 0., 0., 0., 0., 0., 0., 0., 0.],\n",
       "        [0., 0., 0., 0., 0., 0., 0., 0., 0., 0.],\n",
       "        [0., 0., 0., 0., 0., 0., 0., 0., 0., 0.],\n",
       "        [0., 0., 0., 0., 0., 0., 0., 0., 0., 0.],\n",
       "        [0., 0., 0., 0., 0., 0., 0., 0., 0., 0.],\n",
       "        [0., 0., 0., 0., 0., 0., 0., 0., 0., 0.],\n",
       "        [0., 0., 0., 0., 0., 0., 0., 0., 0., 0.],\n",
       "        [0., 0., 0., 0., 0., 0., 0., 0., 0., 0.]],\n",
       "\n",
       "       [[0., 0., 0., 0., 0., 0., 0., 0., 0., 0.],\n",
       "        [0., 0., 0., 0., 0., 0., 0., 0., 0., 0.],\n",
       "        [0., 0., 0., 0., 0., 0., 0., 0., 0., 0.],\n",
       "        [0., 0., 0., 0., 0., 0., 0., 0., 0., 0.],\n",
       "        [0., 0., 0., 0., 0., 0., 0., 0., 0., 0.],\n",
       "        [0., 0., 0., 0., 0., 0., 0., 0., 0., 0.],\n",
       "        [0., 0., 0., 0., 0., 0., 0., 0., 0., 0.],\n",
       "        [0., 0., 0., 0., 0., 0., 0., 0., 0., 0.],\n",
       "        [0., 0., 0., 0., 0., 0., 0., 0., 0., 0.],\n",
       "        [0., 0., 0., 0., 0., 0., 0., 0., 0., 0.]],\n",
       "\n",
       "       [[0., 0., 0., 0., 0., 0., 0., 0., 0., 0.],\n",
       "        [0., 0., 0., 0., 0., 0., 0., 0., 0., 0.],\n",
       "        [0., 0., 0., 0., 0., 0., 0., 0., 0., 0.],\n",
       "        [0., 0., 0., 0., 0., 0., 0., 0., 0., 0.],\n",
       "        [0., 0., 0., 0., 0., 0., 0., 0., 0., 0.],\n",
       "        [0., 0., 0., 0., 0., 0., 0., 0., 0., 0.],\n",
       "        [0., 0., 0., 0., 0., 0., 0., 0., 0., 0.],\n",
       "        [0., 0., 0., 0., 0., 0., 0., 0., 0., 0.],\n",
       "        [0., 0., 0., 0., 0., 0., 0., 0., 0., 0.],\n",
       "        [0., 0., 0., 0., 0., 0., 0., 0., 0., 0.]],\n",
       "\n",
       "       [[0., 0., 0., 0., 0., 0., 0., 0., 0., 0.],\n",
       "        [0., 0., 0., 0., 0., 0., 0., 0., 0., 0.],\n",
       "        [0., 0., 0., 0., 0., 0., 0., 0., 0., 0.],\n",
       "        [0., 0., 0., 0., 0., 0., 0., 0., 0., 0.],\n",
       "        [0., 0., 0., 0., 0., 0., 0., 0., 0., 0.],\n",
       "        [0., 0., 0., 0., 0., 0., 0., 0., 0., 0.],\n",
       "        [0., 0., 0., 0., 0., 0., 0., 0., 0., 0.],\n",
       "        [0., 0., 0., 0., 0., 0., 0., 0., 0., 0.],\n",
       "        [0., 0., 0., 0., 0., 0., 0., 0., 0., 0.],\n",
       "        [0., 0., 0., 0., 0., 0., 0., 0., 0., 0.]],\n",
       "\n",
       "       [[0., 0., 0., 0., 0., 0., 0., 0., 0., 0.],\n",
       "        [0., 0., 0., 0., 0., 0., 0., 0., 0., 0.],\n",
       "        [0., 0., 0., 0., 0., 0., 0., 0., 0., 0.],\n",
       "        [0., 0., 0., 0., 0., 0., 0., 0., 0., 0.],\n",
       "        [0., 0., 0., 0., 0., 0., 0., 0., 0., 0.],\n",
       "        [0., 0., 0., 0., 0., 0., 0., 0., 0., 0.],\n",
       "        [0., 0., 0., 0., 0., 0., 0., 0., 0., 0.],\n",
       "        [0., 0., 0., 0., 0., 0., 0., 0., 0., 0.],\n",
       "        [0., 0., 0., 0., 0., 0., 0., 0., 0., 0.],\n",
       "        [0., 0., 0., 0., 0., 0., 0., 0., 0., 0.]],\n",
       "\n",
       "       [[0., 0., 0., 0., 0., 0., 0., 0., 0., 0.],\n",
       "        [0., 0., 0., 0., 0., 0., 0., 0., 0., 0.],\n",
       "        [0., 0., 0., 0., 0., 0., 0., 0., 0., 0.],\n",
       "        [0., 0., 0., 0., 0., 0., 0., 0., 0., 0.],\n",
       "        [0., 0., 0., 0., 0., 0., 0., 0., 0., 0.],\n",
       "        [0., 0., 0., 0., 0., 0., 0., 0., 0., 0.],\n",
       "        [0., 0., 0., 0., 0., 0., 0., 0., 0., 0.],\n",
       "        [0., 0., 0., 0., 0., 0., 0., 0., 0., 0.],\n",
       "        [0., 0., 0., 0., 0., 0., 0., 0., 0., 0.],\n",
       "        [0., 0., 0., 0., 0., 0., 0., 0., 0., 0.]],\n",
       "\n",
       "       [[0., 0., 0., 0., 0., 0., 0., 0., 0., 0.],\n",
       "        [0., 0., 0., 0., 0., 0., 0., 0., 0., 0.],\n",
       "        [0., 0., 0., 0., 0., 0., 0., 0., 0., 0.],\n",
       "        [0., 0., 0., 0., 0., 0., 0., 0., 0., 0.],\n",
       "        [0., 0., 0., 0., 0., 0., 0., 0., 0., 0.],\n",
       "        [0., 0., 0., 0., 0., 0., 0., 0., 0., 0.],\n",
       "        [0., 0., 0., 0., 0., 0., 0., 0., 0., 0.],\n",
       "        [0., 0., 0., 0., 0., 0., 0., 0., 0., 0.],\n",
       "        [0., 0., 0., 0., 0., 0., 0., 0., 0., 0.],\n",
       "        [0., 0., 0., 0., 0., 0., 0., 0., 0., 0.]],\n",
       "\n",
       "       [[0., 0., 0., 0., 0., 0., 0., 0., 0., 0.],\n",
       "        [0., 0., 0., 0., 0., 0., 0., 0., 0., 0.],\n",
       "        [0., 0., 0., 0., 0., 0., 0., 0., 0., 0.],\n",
       "        [0., 0., 0., 0., 0., 0., 0., 0., 0., 0.],\n",
       "        [0., 0., 0., 0., 0., 0., 0., 0., 0., 0.],\n",
       "        [0., 0., 0., 0., 0., 0., 0., 0., 0., 0.],\n",
       "        [0., 0., 0., 0., 0., 0., 0., 0., 0., 0.],\n",
       "        [0., 0., 0., 0., 0., 0., 0., 0., 0., 0.],\n",
       "        [0., 0., 0., 0., 0., 0., 0., 0., 0., 0.],\n",
       "        [0., 0., 0., 0., 0., 0., 0., 0., 0., 0.]]])"
      ]
     },
     "execution_count": 9,
     "metadata": {},
     "output_type": "execute_result"
    }
   ],
   "source": [
    "a"
   ]
  },
  {
   "cell_type": "code",
   "execution_count": 12,
   "metadata": {},
   "outputs": [],
   "source": [
    "a = np.random.randint(900,size=(5,5,5))"
   ]
  },
  {
   "cell_type": "code",
   "execution_count": 13,
   "metadata": {},
   "outputs": [
    {
     "data": {
      "text/plain": [
       "array([[[491, 804, 117, 679, 199],\n",
       "        [207, 475,  66, 108, 760],\n",
       "        [  8, 241, 343, 606, 505],\n",
       "        [630, 185, 523, 400,  22],\n",
       "        [590, 387, 506,  76, 462]],\n",
       "\n",
       "       [[525, 649, 512, 794, 576],\n",
       "        [814, 234, 538, 485, 838],\n",
       "        [876, 250, 424, 757, 550],\n",
       "        [ 68, 568, 602, 541,  96],\n",
       "        [868, 259,  34,  24, 832]],\n",
       "\n",
       "       [[362, 210, 477, 129, 113],\n",
       "        [746, 878, 811, 598, 119],\n",
       "        [385,  72,  63, 586, 834],\n",
       "        [341, 173, 427, 170, 555],\n",
       "        [285, 395, 167, 831,  21]],\n",
       "\n",
       "       [[ 93, 148,  49, 837,  56],\n",
       "        [ 53, 854, 209, 322, 741],\n",
       "        [627, 699, 350, 368, 270],\n",
       "        [360, 754, 669,  30, 860],\n",
       "        [839, 658, 516, 279, 713]],\n",
       "\n",
       "       [[162, 338, 823, 599,  94],\n",
       "        [282, 240, 685,  77, 858],\n",
       "        [837, 579, 822,  98, 309],\n",
       "        [623, 344, 653,  22, 270],\n",
       "        [519, 389, 176, 629, 400]]])"
      ]
     },
     "execution_count": 13,
     "metadata": {},
     "output_type": "execute_result"
    }
   ],
   "source": [
    "a"
   ]
  },
  {
   "cell_type": "code",
   "execution_count": 28,
   "metadata": {},
   "outputs": [],
   "source": [
    "test = np.ones(27).reshape(3,3,3)"
   ]
  },
  {
   "cell_type": "code",
   "execution_count": 29,
   "metadata": {},
   "outputs": [
    {
     "data": {
      "text/plain": [
       "array([[[1., 1., 1.],\n",
       "        [1., 1., 1.],\n",
       "        [1., 1., 1.]],\n",
       "\n",
       "       [[1., 1., 1.],\n",
       "        [1., 1., 1.],\n",
       "        [1., 1., 1.]],\n",
       "\n",
       "       [[1., 1., 1.],\n",
       "        [1., 1., 1.],\n",
       "        [1., 1., 1.]]])"
      ]
     },
     "execution_count": 29,
     "metadata": {},
     "output_type": "execute_result"
    }
   ],
   "source": [
    "test"
   ]
  },
  {
   "cell_type": "code",
   "execution_count": 30,
   "metadata": {},
   "outputs": [
    {
     "name": "stdout",
     "output_type": "stream",
     "text": [
      "1.0\n",
      "1.0\n",
      "1.0\n",
      "1.0\n",
      "1.0\n",
      "1.0\n",
      "1.0\n",
      "1.0\n",
      "1.0\n",
      "1.0\n",
      "1.0\n",
      "1.0\n",
      "1.0\n",
      "1.0\n",
      "1.0\n",
      "1.0\n",
      "1.0\n",
      "1.0\n",
      "1.0\n",
      "1.0\n",
      "1.0\n",
      "1.0\n",
      "1.0\n",
      "1.0\n",
      "1.0\n",
      "1.0\n",
      "1.0\n"
     ]
    }
   ],
   "source": [
    "for x in np.ndindex(test.shape):\n",
    "    print(test[x])"
   ]
  },
  {
   "cell_type": "code",
   "execution_count": 20,
   "metadata": {},
   "outputs": [],
   "source": [
    "n = np.random.uniform(0,1, size=(2,3))"
   ]
  },
  {
   "cell_type": "code",
   "execution_count": 40,
   "metadata": {},
   "outputs": [
    {
     "data": {
      "text/plain": [
       "array([[[0., 0., 0.],\n",
       "        [0., 0., 0.],\n",
       "        [0., 0., 0.]],\n",
       "\n",
       "       [[0., 0., 0.],\n",
       "        [0., 0., 0.],\n",
       "        [0., 0., 0.]],\n",
       "\n",
       "       [[0., 0., 0.],\n",
       "        [0., 0., 0.],\n",
       "        [0., 0., 0.]]])"
      ]
     },
     "execution_count": 40,
     "metadata": {},
     "output_type": "execute_result"
    }
   ],
   "source": [
    "np.zeros(shape=(3,3,3))"
   ]
  },
  {
   "cell_type": "code",
   "execution_count": 27,
   "metadata": {},
   "outputs": [
    {
     "data": {
      "text/plain": [
       "array([[1., 1., 0.],\n",
       "       [1., 0., 1.]])"
      ]
     },
     "execution_count": 27,
     "metadata": {},
     "output_type": "execute_result"
    }
   ],
   "source": [
    "np.round(n)"
   ]
  },
  {
   "cell_type": "code",
   "execution_count": 402,
   "metadata": {},
   "outputs": [],
   "source": [
    "class Spawner:\n",
    "    def __init__(self, start_x=20, start_y=10, start_z=20, cube_len=10, block_type=REDSTONE_BLOCK, orientation=SOUTH, criteria=.8):\n",
    "        self.start_x = start_x\n",
    "        self.start_y = start_y\n",
    "        self.start_z = start_z\n",
    "        self.cube_len = cube_len\n",
    "        self.block_type = block_type\n",
    "        self.criteria = criteria\n",
    "        self.orientation = orientation\n",
    "        self.channel = grpc.insecure_channel(\"localhost:5001\")\n",
    "        self.client = minecraft_pb2_grpc.MinecraftServiceStub(channel)\n",
    "\n",
    "    def create_block(self, x, y, z):\n",
    "        return Block(\n",
    "                position=Point(x=x, y=y, z=z),\n",
    "                type=self.block_type,\n",
    "                orientation=self.orientation,\n",
    "            )  \n",
    "    \n",
    "    def clear_blocks(self, x_min, y_min, z_min):\n",
    "        \n",
    "        self.client.fillCube(\n",
    "            FillCubeRequest(  # Clear a 20x10x20 working area\n",
    "                cube=Cube(\n",
    "                    min=Point(x=x_min, y=y_min, z=z_min), max=Point(x=x_min + self.cube_len, y=y_min + self.cube_len, z=z_min + self.cube_len)\n",
    "                ),\n",
    "                type=AIR,\n",
    "            )\n",
    "        )\n",
    "\n",
    "    def _populate_arr(self, arr, x_min, y_min, z_min):\n",
    "        blocks = []\n",
    "        self.clear_blocks(x_min,y_min,z_min)\n",
    "        for coord in np.ndindex(arr.shape):\n",
    "            if arr[coord] >= self.criteria:\n",
    "                block = self.create_block(x=x_min+coord[0], y=y_min+coord[1], z=z_min+coord[2])\n",
    "                blocks.append(block)\n",
    "        blocks = Blocks(blocks=blocks)\n",
    "        client.spawnBlocks(blocks)\n",
    "    \n",
    "    def populate(self, cube_probs):\n",
    "        for i in range(len(cube_probs)):\n",
    "            dist = i*5 + i*self.cube_len\n",
    "            self._populate_arr(cube_probs[i], self.start_x+dist,self.start_y, self.start_z)\n",
    "\n",
    "    def clear_population(self, population_size):\n",
    "        for i in range(population_size):\n",
    "            dist = i*5 + i*self.cube_len\n",
    "            self.clear_blocks(self.start_x+dist,self.start_y, self.start_z)\n",
    "    "
   ]
  },
  {
   "cell_type": "code",
   "execution_count": 384,
   "metadata": {},
   "outputs": [],
   "source": [
    "l = [np.ones((10,10,10)) for i in range(10)]"
   ]
  },
  {
   "cell_type": "code",
   "execution_count": 385,
   "metadata": {},
   "outputs": [],
   "source": [
    "s = Spawner()"
   ]
  },
  {
   "cell_type": "code",
   "execution_count": 388,
   "metadata": {},
   "outputs": [],
   "source": [
    "s.populate(l)"
   ]
  },
  {
   "cell_type": "code",
   "execution_count": 66,
   "metadata": {},
   "outputs": [],
   "source": [
    "def multi_populate(population_len, border_len=5, x_min=20, y_min=10, z_min=20, cube_len=20):\n",
    "    x = x_min\n",
    "    y = y_min\n",
    "    z = z_min\n",
    "    for i in range(population_len):\n",
    "        dist = i*border_len + i*cube_len\n",
    "        populate_arr(np.random.uniform(0,1, size=(cube_len,cube_len,cube_len)), x+dist,y, z, cube_len)"
   ]
  },
  {
   "cell_type": "code",
   "execution_count": 67,
   "metadata": {},
   "outputs": [],
   "source": [
    "def multi_clear(population_len, border_len=5, x_min=20, y_min=10, z_min=20, cube_len=20):\n",
    "    x = x_min\n",
    "    y = y_min\n",
    "    z = z_min\n",
    "    for i in range(population_len):\n",
    "        dist = i*border_len + i*cube_len\n",
    "        clear_blocks(x+dist,y, z, cube_len)"
   ]
  },
  {
   "cell_type": "code",
   "execution_count": 84,
   "metadata": {},
   "outputs": [],
   "source": [
    "multi_clear(10, cube_len=10)"
   ]
  },
  {
   "cell_type": "code",
   "execution_count": 80,
   "metadata": {},
   "outputs": [],
   "source": [
    "multi_populate(10, cube_len=10)"
   ]
  },
  {
   "cell_type": "code",
   "execution_count": 268,
   "metadata": {},
   "outputs": [
    {
     "data": {
      "text/plain": [
       "tensor([0.4966, 0.4996, 0.5044, 0.5001, 0.4977, 0.5002, 0.5086, 0.4904, 0.5096,\n",
       "        0.4958, 0.5045, 0.5096, 0.4921, 0.4991, 0.5035, 0.4970, 0.4953, 0.5022,\n",
       "        0.5035, 0.5021, 0.5136, 0.5011, 0.4981, 0.4886, 0.4965, 0.4977, 0.4935,\n",
       "        0.5031, 0.4920, 0.4927, 0.5028, 0.5085, 0.4997, 0.4912, 0.4909, 0.5008,\n",
       "        0.5075, 0.4986, 0.5040, 0.4916, 0.4920, 0.4946, 0.5024, 0.5076, 0.5006,\n",
       "        0.5003, 0.5080, 0.5012, 0.4972, 0.4879, 0.4980, 0.5045, 0.5004, 0.4995,\n",
       "        0.4970, 0.4990, 0.5037, 0.5069, 0.5068, 0.4873, 0.5097, 0.4981, 0.5007,\n",
       "        0.4939, 0.5029, 0.5030, 0.4917, 0.5041, 0.5007, 0.4890, 0.5066, 0.4922,\n",
       "        0.4868, 0.5017, 0.5021, 0.4977, 0.4980, 0.4946, 0.4970, 0.5006, 0.5083,\n",
       "        0.4896, 0.4929, 0.4909, 0.4965, 0.4974, 0.4930, 0.5008, 0.5024, 0.5002,\n",
       "        0.5079, 0.5048, 0.4984, 0.5117, 0.5018, 0.4942, 0.4986, 0.5052, 0.4916,\n",
       "        0.5017, 0.4926, 0.4988, 0.5056, 0.5024, 0.5014, 0.4920, 0.4903, 0.5060,\n",
       "        0.5110, 0.5020, 0.5044, 0.5014, 0.5039, 0.4953, 0.5063, 0.5022, 0.4955,\n",
       "        0.5004, 0.5029, 0.5005, 0.4982, 0.5034, 0.5068, 0.5003, 0.4989, 0.4981,\n",
       "        0.4954, 0.4968, 0.5079, 0.5016, 0.5053, 0.4986, 0.4914, 0.4943, 0.5020,\n",
       "        0.5043, 0.4981, 0.5117, 0.5004, 0.4943, 0.4950, 0.4952, 0.4990, 0.5072,\n",
       "        0.4973, 0.4922, 0.5008, 0.5039, 0.5001, 0.4933, 0.4964, 0.4883, 0.5012,\n",
       "        0.4971, 0.5021, 0.4945, 0.4954, 0.5033, 0.4932, 0.4852, 0.5010, 0.4947,\n",
       "        0.5042, 0.4993, 0.4964, 0.4973, 0.4991, 0.4969, 0.4890, 0.4994, 0.4951,\n",
       "        0.4927, 0.5014, 0.4879, 0.5029, 0.4936, 0.5016, 0.5052, 0.5015, 0.5026,\n",
       "        0.5010, 0.4874, 0.5099, 0.4994, 0.5036, 0.4981, 0.4926, 0.5039, 0.4988,\n",
       "        0.4904, 0.5107, 0.4964, 0.5040, 0.4943, 0.4981, 0.5064, 0.4958, 0.4853,\n",
       "        0.4895, 0.4953, 0.4947, 0.4930, 0.4936, 0.5006, 0.5158, 0.4991, 0.5065,\n",
       "        0.4923, 0.4994, 0.4969, 0.5047, 0.4956, 0.4971, 0.4991, 0.5002, 0.5014,\n",
       "        0.4966, 0.5065, 0.4906, 0.5024, 0.5096, 0.5015, 0.4998, 0.5020, 0.4976,\n",
       "        0.5037, 0.5067, 0.5010, 0.5005, 0.4938, 0.4953, 0.5069, 0.5018, 0.4932,\n",
       "        0.5087, 0.5009, 0.4944, 0.5067, 0.5019, 0.4988, 0.5065, 0.4994, 0.5031,\n",
       "        0.5013, 0.5025, 0.4961, 0.4983, 0.4984, 0.4962, 0.5077, 0.5042, 0.5069,\n",
       "        0.4975, 0.5037, 0.5145, 0.4978])"
      ]
     },
     "execution_count": 268,
     "metadata": {},
     "output_type": "execute_result"
    }
   ],
   "source": [
    "torch.squeeze(torch.from_numpy(n))"
   ]
  },
  {
   "cell_type": "code",
   "execution_count": 364,
   "metadata": {},
   "outputs": [],
   "source": [
    "import torch\n",
    "from torch import nn\n",
    "import typing\n",
    "import numpy as np\n",
    "import sys\n",
    "\n",
    "def create_linear_torch(\n",
    "    input_dims, output_dims, bias=False, relu=False, batch_norm=False\n",
    "):\n",
    "    layers = []\n",
    "    lin = torch.nn.Linear(input_dims, output_dims, bias=bias)\n",
    "    layers.append(lin)\n",
    "    if batch_norm:\n",
    "        layers.append(torch.nn.BatchNorm1d(output_dims))\n",
    "    if relu:\n",
    "        layers.append(torch.nn.ReLU())\n",
    "    return torch.nn.Sequential(*layers)\n",
    "\n",
    "class Linear(nn.Module):\n",
    "    def __init__(self, noise_dims, x_dims, y_dims, z_dims):\n",
    "        super(Linear, self).__init__()\n",
    "        self.noise_dims = noise_dims\n",
    "        self.x_dims = x_dims\n",
    "        self.y_dims = y_dims\n",
    "        self.z_dims = z_dims\n",
    "\n",
    "        self.linear1 = create_linear_torch(noise_dims, 64, relu=True)\n",
    "        self.linear2 = create_linear_torch(64, 256, relu=True)\n",
    "        self.linear3 = create_linear_torch(256, 512, relu=True)\n",
    "        self.output_linear = create_linear_torch(256, x_dims*y_dims*z_dims)\n",
    "        self.sigmoid = nn.Sigmoid()\n",
    "        self.layers = [\n",
    "            self.linear1,\n",
    "            self.linear2,\n",
    "#             self.linear3,\n",
    "            self.output_linear,\n",
    "            self.sigmoid\n",
    "        ]\n",
    "        self._net = nn.Sequential(*self.layers)\n",
    "\n",
    "    def forward(self, x):\n",
    "        x = self._net(x)\n",
    "        return x\n",
    "\n",
    "    def generate(self, mean=0.0, std=1.0, to_numpy=False, squeeze=False):\n",
    "#         if seed is None:\n",
    "#             seed = np.random.randint(2**31 - 1)\n",
    "#         rs = np.random.RandomState(seed)\n",
    "        noise = torch.from_numpy(np.random.normal(loc=mean, scale=std, size=(1, self.noise_dims))).float()\n",
    "        out = self.forward(noise)\n",
    "        if squeeze:\n",
    "            out = torch.squeeze(out)\n",
    "        if to_numpy:\n",
    "            out = out.detach().numpy()\n",
    "        return out"
   ]
  },
  {
   "cell_type": "code",
   "execution_count": 365,
   "metadata": {},
   "outputs": [],
   "source": [
    "import attr"
   ]
  },
  {
   "cell_type": "code",
   "execution_count": 366,
   "metadata": {},
   "outputs": [],
   "source": [
    "from __future__ import annotations\n",
    "import copy\n",
    "\n",
    "@attr.s\n",
    "class Genome:\n",
    "    noise_dims: int = attr.ib()\n",
    "    cube_dims : int = attr.ib()\n",
    "    seeds : typing.List[int] = attr.ib(default=[])\n",
    "    noise_stdev : float = attr.ib(default=1.0)\n",
    "    # set later\n",
    "    model = attr.ib(init=False)\n",
    "\n",
    "    def __attrs_post_init__(self):\n",
    "        self._verify_seeds(self.seeds)\n",
    "        self.model = Linear(self.noise_dims, self.cube_dims, self.cube_dims, self.cube_dims)\n",
    "        self.initialize_weights()\n",
    "        \n",
    "    def _verify_seeds(self, seeds):\n",
    "        if len(seeds) == 0:\n",
    "            seeds = [np.random.randint(1, high=2 ** 31 - 1)]\n",
    "        self.seeds = seeds.copy()\n",
    "\n",
    "    def initialize_weights(self) -> None:\n",
    "        num_seeds = len(self.seeds)\n",
    "\n",
    "        rs = np.random.RandomState(self.seeds[0])\n",
    "        for n, W in self.model.named_parameters():\n",
    "            if any(x in n for x in [\"weight\", \"bias\"]):\n",
    "                weights = rs.normal(loc=0.0, scale=self.noise_stdev, size=W.size())\n",
    "                W.data = torch.from_numpy(weights).float()\n",
    "\n",
    "        for seed_num in range(1, num_seeds):\n",
    "            rs = np.random.RandomState(self.seeds[seed_num])\n",
    "            for name, W in self.model.named_parameters():\n",
    "                if any(x in name for x in [\"weight\", \"bias\"]):\n",
    "                    weights = (\n",
    "                        rs.normal(loc=0.0, scale=1.0, size=W.size()) * self.noise_stdev\n",
    "                    )\n",
    "                    W.data = W.data + torch.from_numpy(weights).float()\n",
    "\n",
    "    def mutate(self):\n",
    "        new_seed = np.random.randint(1, high=2 ** 31 - 1)\n",
    "        self.seeds.append(new_seed)\n",
    "        self.initialize_weights()\n",
    "\n",
    "    def generate(self, to_numpy=False, squeeze=False):\n",
    "        return self.model.generate(to_numpy=to_numpy, squeeze=squeeze)\n",
    "    \n",
    "    def copy_parameters(self, genome: Genome):\n",
    "        self.seeds = copy.deepcopy(genome.seeds)\n",
    "    "
   ]
  },
  {
   "cell_type": "code",
   "execution_count": 367,
   "metadata": {},
   "outputs": [],
   "source": [
    "from tqdm import tqdm"
   ]
  },
  {
   "cell_type": "code",
   "execution_count": 368,
   "metadata": {},
   "outputs": [],
   "source": [
    "from collections import deque"
   ]
  },
  {
   "cell_type": "code",
   "execution_count": 369,
   "metadata": {},
   "outputs": [],
   "source": [
    "import sklearn\n",
    "from sklearn.neighbors import NearestNeighbors\n",
    "import numpy as np\n",
    "\n",
    "def cross_entropy(x, y):\n",
    "    N = x.shape[0]\n",
    "    ce = -np.sum(y * np.log(x)) / N\n",
    "    return ce\n",
    "\n",
    "class NoveltySearch:\n",
    "    def __init__(self, num_neighbors, maxlen=200):\n",
    "        self.num_neighbors = num_neighbors\n",
    "        self._bcs = deque([], maxlen=maxlen)\n",
    "        self._knn = NearestNeighbors(n_neighbors=num_neighbors,\n",
    "                 algorithm='auto',\n",
    "                 metric=lambda a,b: cross_entropy(a,b)\n",
    "                 )\n",
    "    \n",
    "    def apply(self, bcs):\n",
    "        for bc in bcs:\n",
    "            self._bcs.append(bc)\n",
    "        neighbors = self._knn.fit(np.array(self._bcs))\n",
    "        distances, indices = self._knn.kneighbors(np.array(bcs))\n",
    "        return np.mean(distances, axis=1)\n",
    "\n"
   ]
  },
  {
   "cell_type": "code",
   "execution_count": 403,
   "metadata": {},
   "outputs": [],
   "source": [
    "import random\n",
    "\n",
    "@attr.s\n",
    "class GeneticAlgorithm:\n",
    "    population_size : int = attr.ib(default=50)\n",
    "    num_elites : int = attr.ib(default=5)\n",
    "    noise_dims: int = attr.ib(default=100)\n",
    "    cube_dims : int = attr.ib(default=10)\n",
    "    noise_stdev: float = attr.ib(default=0.02)\n",
    "    num_neighbors : int = attr.ib(default=5)\n",
    "    num_bcs : int = attr.ib(default=200)\n",
    "        \n",
    "    spawner: Spawner = attr.ib(default=None)\n",
    "    genomes : typing.List[Genome] = attr.ib(init=False)\n",
    "    \n",
    "    def __attrs_post_init__(self):\n",
    "        self.populate()\n",
    "        self.novelty_search = NoveltySearch(num_neighbors=self.num_neighbors, maxlen=self.num_bcs)\n",
    "        if self.spawner is None:\n",
    "            self.spawner = Spawner(cube_len=self.cube_dims)\n",
    "\n",
    "    def populate(self):\n",
    "        self.genomes = []\n",
    "        for i in range(self.population_size):\n",
    "            genome = Genome(noise_dims=self.noise_dims,\n",
    "                            cube_dims=self.cube_dims,\n",
    "                            noise_stdev=self.noise_stdev)\n",
    "            self.genomes.append(genome)\n",
    "    \n",
    "    def evolve(self, num_generations=100):\n",
    "        try:\n",
    "            bar = tqdm(np.arange(num_generations))\n",
    "            for i in bar:\n",
    "                outputs = [genome.generate(to_numpy=True, squeeze=True) for genome in self.genomes]\n",
    "                self.spawn(outputs)\n",
    "                fitnesses = self.novelty_search.apply(outputs)\n",
    "                max_fitness = np.max(fitnesses)\n",
    "                bar.set_description(\"Generation: {} with max fitness: {}\".format(i, max_fitness))\n",
    "                self.reproduce(fitnesses)\n",
    "        except:\n",
    "            self.spawner.clear_population(self.population_size)\n",
    "    \n",
    "    def spawn(self, outputs):\n",
    "        reshaped_outputs = [output.reshape(self.cube_dims, self.cube_dims, self.cube_dims) for output in outputs]\n",
    "        self.spawner.populate(reshaped_outputs)\n",
    "        \n",
    "    def reproduce(self, fitnesses) -> None:\n",
    "        \"\"\"\n",
    "            reproduces by taking the top N elites and copying + mutating their seeds\n",
    "        \"\"\"\n",
    "        ranking = np.argsort(fitnesses)[::-1]\n",
    "        elite_ranking = ranking[: self.num_elites]\n",
    "        elite_ranking_set = set(elite_ranking)\n",
    "        best_genome_index = elite_ranking[0]\n",
    "\n",
    "        for genome_index in range(len(self.genomes)):\n",
    "            # first mutate non elite agents\n",
    "            if genome_index not in elite_ranking_set:\n",
    "                random_elite_index = random.choice(elite_ranking)\n",
    "                random_elite = self.genomes[random_elite_index]\n",
    "                self.genomes[genome_index].copy_parameters(\n",
    "                    random_elite\n",
    "                )  # copy seeds\n",
    "                self.genomes[genome_index].mutate()\n",
    "\n",
    "        for genome_index in elite_ranking_set:\n",
    "            # mutate elites except the best one\n",
    "            if genome_index != best_genome_index:\n",
    "                self.genomes[genome_index].mutate()\n",
    "    \n",
    "        "
   ]
  },
  {
   "cell_type": "code",
   "execution_count": 406,
   "metadata": {},
   "outputs": [],
   "source": [
    "g = GeneticAlgorithm(noise_stdev=0.05)"
   ]
  },
  {
   "cell_type": "code",
   "execution_count": null,
   "metadata": {},
   "outputs": [
    {
     "name": "stderr",
     "output_type": "stream",
     "text": [
      "Generation: 0 with max fitness: 0.34761316487803867:   1%|          | 1/100 [00:05<09:53,  6.00s/it]"
     ]
    }
   ],
   "source": [
    "g.evolve()"
   ]
  },
  {
   "cell_type": "code",
   "execution_count": null,
   "metadata": {},
   "outputs": [],
   "source": []
  }
 ],
 "metadata": {
  "kernelspec": {
   "display_name": "Python [conda env:py38] *",
   "language": "python",
   "name": "conda-env-py38-py"
  },
  "language_info": {
   "codemirror_mode": {
    "name": "ipython",
    "version": 3
   },
   "file_extension": ".py",
   "mimetype": "text/x-python",
   "name": "python",
   "nbconvert_exporter": "python",
   "pygments_lexer": "ipython3",
   "version": "3.8.3"
  }
 },
 "nbformat": 4,
 "nbformat_minor": 4
}
